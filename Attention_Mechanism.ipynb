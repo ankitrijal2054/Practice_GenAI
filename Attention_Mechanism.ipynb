{
 "cells": [
  {
   "cell_type": "markdown",
   "id": "b0bc7122-f54a-45c9-97a3-87ec85a3dfd9",
   "metadata": {},
   "source": [
    "<p style=\"text-align:center\">\n",
    "    <a href=\"https://skills.network\" target=\"_blank\">\n",
    "    <img src=\"https://cf-courses-data.s3.us.cloud-object-storage.appdomain.cloud/assets/logos/SN_web_lightmode.png\" width=\"200\" alt=\"Skills Network Logo\"  />\n",
    "    </a>\n",
    "</p>\n"
   ]
  },
  {
   "cell_type": "markdown",
   "id": "9d1285ad-5e9b-40a9-b8b4-95a85d2b11be",
   "metadata": {},
   "source": [
    "# **Self-Attention and Positional Encoding**\n"
   ]
  },
  {
   "cell_type": "markdown",
   "id": "3c2acbe7-c62b-4750-9058-6d6eaace9779",
   "metadata": {},
   "source": [
    "Estimated time needed: **45** minutes\n"
   ]
  },
  {
   "cell_type": "markdown",
   "id": "6449841b-26e8-4361-b0e7-63ee8ac3f393",
   "metadata": {},
   "source": [
    "## __Table of Contents__\n",
    "\n",
    "<ol>\n",
    "    <li><a href=\"#Self-attention\">Self-attention</a></li>\n",
    "    <li>\n",
    "        <a href=\"#Setup\">Setup</a>\n",
    "        <ol>\n",
    "            <li><a href=\"#Installing-required-libraries\">Installing required libraries</a></li>\n",
    "            <li><a href=\"#Importing-required-libraries\">Importing required libraries</a></li>\n",
    "        </ol>\n",
    "    </li>\n",
    "    <li>\n",
    "        <a href=\"#Program-for-literal-translation\">Program for literal translation</a>\n",
    "        <ol>\n",
    "            <li><a href=\"#Improvement:-What-if-the-'key'-is-not-in-the-dictionary?\">Improvement: What if the 'key' is not in the dictionary?</a></li>\n",
    "        </ol>\n",
    "    </li>\n",
    "    <li>\n",
    "        <a href=\"#Convert-to-neural-network\">Convert to neural network</a>\n",
    "        <ol>\n",
    "            <li><a href=\"#Define-'vocabularies'\">Define 'vocabularies'</a></li>\n",
    "            <li><a href=\"#Encode-tokens-using-'one-hot'-encoding\">Encode tokens using 'one hot' encoding</a></li>\n",
    "            <li><a href=\"#Decode-one-hot-vector\">Decode one-hot vector</a></li>\n",
    "            <li><a href=\"#Matrix-based-translate-function\">Matrix-based translate function</a></li>\n",
    "            <li><a href=\"#Softmax-function-for-similarity\">Softmax function for similarity</a></li>\n",
    "            <li><a href=\"#Translation-with-attention-mechanism\">Translation with attention mechanism</a></li>\n",
    "            <li><a href=\"#Creating-the-'Q'-matrix\">Creating the 'Q' matrix</a></li>\n",
    "        </ol>\n",
    "        <li><a href=\"#Self-attention-class-(optional)\">Self-attention class (optional)</a>\n",
    "        <ol>\n",
    "            <li><a href=\"#Dataset-definition\">Dataset definition</a></li>\n",
    "            <li><a href=\"#Tokenization-setup\">Tokenization setup</a></li>\n",
    "            <li><a href=\"#Vocabulary-building\">Vocabulary building</a></li>\n",
    "            <li><a href=\"#Text-processing-pipeline\">Text processing pipeline</a></li>\n",
    "            <li><a href=\"#Hyperparameter-definition\">Hyperparameter definition</a></li>\n",
    "            <li><a href=\"#Dummy-data-for-testing\">Dummy data for testing</a></li>\n",
    "        </ol>\n",
    "        </li>\n",
    "    </li>\n",
    "    <li><a href=\"#Positional-encoding\">Positional encoding</a>\n",
    "    <li><a href=\"#Transformers-in-PyTorch\">Transformers in PyTorch</a>\n",
    "        <ol>\n",
    "            <li><a href=\"#MultiHead-attention\">MultiHead attention</a></li>\n",
    "            <li><a href=\"#TransformerEncoderLayer-and-TransformerEncoder\">TransformerEncoderLayer and TransformerEncoder</a>\n",
    "        </ol>\n",
    "    </li>\n",
    "     <li><a href=\"#Exercise\">Exercise</a>\n",
    "</li>\n",
    "    \n",
    "    \n",
    "</ol>\n"
   ]
  },
  {
   "cell_type": "markdown",
   "id": "2296074a-0375-4a80-9a4d-0ae3852abcfe",
   "metadata": {},
   "source": [
    "## Objectives\n",
    "\n",
    "After completing this lab you will be able to:\n",
    "\n",
    "- Understand the basics of tokenization and how textual data is prepared for neural network models.\n",
    "- Learn the concept of one-hot encoding and its application in representing textual data for machine learning models.\n",
    "- Explore the self-attention mechanism, a key component of Transformer models, which allows the model to dynamically focus on different parts of the input sequence for making predictions.\n",
    "- Implement a basic self-attention mechanism and integrate it into a neural network model.\n",
    "- Grasp the importance of positional encoding in Transformer models, providing the model with the necessary information about the order of words in a sentence.\n",
    "- Implement positional encoding and observe its effect on model performance and understanding of sequence order.\n",
    "- Apply the learned concepts to build a simple translation model or text processing task, demonstrating the practical application of self-attention and positional encoding.\n",
    "- Develop an intuition for the workings of modern NLP models, particularly the Transformer architecture, and understand their advantages over traditional sequence processing models like RNNs and LSTMs.\n",
    "- Encourage further exploration and experimentation with different model architectures, hyperparameters, and applications in natural language processing.\n"
   ]
  },
  {
   "cell_type": "markdown",
   "id": "968732a3-b036-4043-a441-c8f869d9f693",
   "metadata": {},
   "source": [
    "# Self-attention\n",
    "Self-attention is a mechanism used in neural networks to help the model focus on different parts of the input data when generating each part of the output. It is a key component of the Transformer architecture, which is widely used in natural language processing tasks such as machine translation, text summarization, and sentiment analysis.\n",
    "\n",
    "The idea behind self-attention is to allow the model to weigh the importance of each input token when generating each output token. This is done by computing a weighted sum of the input tokens, where the weights are determined by the relationships between all pairs of input tokens.\n"
   ]
  },
  {
   "cell_type": "markdown",
   "id": "5197fc14-1a7d-4f6e-a1fd-499829ef38d9",
   "metadata": {},
   "source": [
    "## Setup\n"
   ]
  },
  {
   "cell_type": "markdown",
   "id": "4004e88e-6dce-447c-883a-c16794d6e234",
   "metadata": {},
   "source": [
    "For this lab, let's us the following libraries:\n",
    "\n",
    "- [`torch`](https://pytorch.org/): The core library for building and training neural network models in this project, including the implementation of Self-Attention mechanisms and Positional Encodings.\n",
    "- [`torch.nn`](https://pytorch.org/docs/stable/nn.html), [`torch.nn.functional`](https://pytorch.org/docs/stable/nn.functional.html): These PyTorch submodules are used to define the neural network layers and apply functions such as activations, which are essential in building the model architecture.\n",
    "- [`Levenshtein`](https://pypi.org/project/python-Levenshtein/): This library is used for calculating the Levenshtein distance, which can be useful for evaluating model performance in tasks like text generation or translation by measuring the difference between the predicted and actual text sequences.\n",
    "- [`get_tokenizer`](https://pytorch.org/text/stable/data_utils.html), [`build_vocab_from_iterator`](https://pytorch.org/text/stable/vocab.html) from `torchtext`: These functions are crucial for preprocessing text data, including tokenizing text into words or subwords and building a vocabulary from the dataset, which are foundational steps in preparing data for NLP models.\n"
   ]
  },
  {
   "cell_type": "markdown",
   "id": "56440199-a3e0-4480-aedb-72b503ad3416",
   "metadata": {},
   "source": [
    "### Installing required libraries\n",
    "\n",
    "The following required libraries are __not__ pre-installed in the Skills Network Labs environment. __You will need to run the following cell__ to install them.\n",
    "\n",
    ">Please note that this takes a few minutes to install. \n"
   ]
  },
  {
   "cell_type": "code",
   "execution_count": 1,
   "id": "c4ab9e6e-efed-48e9-b358-971fcbb5ba93",
   "metadata": {},
   "outputs": [
    {
     "name": "stdout",
     "output_type": "stream",
     "text": [
      "Collecting Levenshtein\n",
      "  Downloading levenshtein-0.26.1-cp310-cp310-macosx_11_0_arm64.whl.metadata (3.2 kB)\n",
      "Collecting rapidfuzz<4.0.0,>=3.9.0 (from Levenshtein)\n",
      "  Downloading rapidfuzz-3.12.1-cp310-cp310-macosx_11_0_arm64.whl.metadata (11 kB)\n",
      "Downloading levenshtein-0.26.1-cp310-cp310-macosx_11_0_arm64.whl (157 kB)\n",
      "Downloading rapidfuzz-3.12.1-cp310-cp310-macosx_11_0_arm64.whl (1.4 MB)\n",
      "\u001b[2K   \u001b[90m━━━━━━━━━━━━━━━━━━━━━━━━━━━━━━━━━━━━━━━━\u001b[0m \u001b[32m1.4/1.4 MB\u001b[0m \u001b[31m27.7 MB/s\u001b[0m eta \u001b[36m0:00:00\u001b[0m\n",
      "\u001b[?25hInstalling collected packages: rapidfuzz, Levenshtein\n",
      "Successfully installed Levenshtein-0.26.1 rapidfuzz-3.12.1\n",
      "Requirement already satisfied: matplotlib in /opt/anaconda3/envs/pytorch_env/lib/python3.10/site-packages (3.10.0)\n",
      "Requirement already satisfied: contourpy>=1.0.1 in /opt/anaconda3/envs/pytorch_env/lib/python3.10/site-packages (from matplotlib) (1.3.1)\n",
      "Requirement already satisfied: cycler>=0.10 in /opt/anaconda3/envs/pytorch_env/lib/python3.10/site-packages (from matplotlib) (0.12.1)\n",
      "Requirement already satisfied: fonttools>=4.22.0 in /opt/anaconda3/envs/pytorch_env/lib/python3.10/site-packages (from matplotlib) (4.55.8)\n",
      "Requirement already satisfied: kiwisolver>=1.3.1 in /opt/anaconda3/envs/pytorch_env/lib/python3.10/site-packages (from matplotlib) (1.4.8)\n",
      "Requirement already satisfied: numpy>=1.23 in /opt/anaconda3/envs/pytorch_env/lib/python3.10/site-packages (from matplotlib) (1.26.4)\n",
      "Requirement already satisfied: packaging>=20.0 in /opt/anaconda3/envs/pytorch_env/lib/python3.10/site-packages (from matplotlib) (24.2)\n",
      "Requirement already satisfied: pillow>=8 in /opt/anaconda3/envs/pytorch_env/lib/python3.10/site-packages (from matplotlib) (11.1.0)\n",
      "Requirement already satisfied: pyparsing>=2.3.1 in /opt/anaconda3/envs/pytorch_env/lib/python3.10/site-packages (from matplotlib) (3.2.1)\n",
      "Requirement already satisfied: python-dateutil>=2.7 in /opt/anaconda3/envs/pytorch_env/lib/python3.10/site-packages (from matplotlib) (2.9.0.post0)\n",
      "Requirement already satisfied: six>=1.5 in /opt/anaconda3/envs/pytorch_env/lib/python3.10/site-packages (from python-dateutil>=2.7->matplotlib) (1.17.0)\n",
      "Collecting torch==2.3.0\n",
      "  Downloading torch-2.3.0-cp310-none-macosx_11_0_arm64.whl.metadata (26 kB)\n",
      "Collecting torchtext==0.18.0\n",
      "  Using cached torchtext-0.18.0-cp310-cp310-macosx_11_0_arm64.whl.metadata (7.9 kB)\n",
      "Requirement already satisfied: filelock in /opt/anaconda3/envs/pytorch_env/lib/python3.10/site-packages (from torch==2.3.0) (3.17.0)\n",
      "Requirement already satisfied: typing-extensions>=4.8.0 in /opt/anaconda3/envs/pytorch_env/lib/python3.10/site-packages (from torch==2.3.0) (4.12.2)\n",
      "Requirement already satisfied: sympy in /opt/anaconda3/envs/pytorch_env/lib/python3.10/site-packages (from torch==2.3.0) (1.13.1)\n",
      "Requirement already satisfied: networkx in /opt/anaconda3/envs/pytorch_env/lib/python3.10/site-packages (from torch==2.3.0) (3.4.2)\n",
      "Requirement already satisfied: jinja2 in /opt/anaconda3/envs/pytorch_env/lib/python3.10/site-packages (from torch==2.3.0) (3.1.5)\n",
      "Requirement already satisfied: fsspec in /opt/anaconda3/envs/pytorch_env/lib/python3.10/site-packages (from torch==2.3.0) (2024.12.0)\n",
      "Requirement already satisfied: tqdm in /opt/anaconda3/envs/pytorch_env/lib/python3.10/site-packages (from torchtext==0.18.0) (4.67.1)\n",
      "Requirement already satisfied: requests in /opt/anaconda3/envs/pytorch_env/lib/python3.10/site-packages (from torchtext==0.18.0) (2.32.3)\n",
      "Requirement already satisfied: numpy in /opt/anaconda3/envs/pytorch_env/lib/python3.10/site-packages (from torchtext==0.18.0) (1.26.4)\n",
      "Requirement already satisfied: MarkupSafe>=2.0 in /opt/anaconda3/envs/pytorch_env/lib/python3.10/site-packages (from jinja2->torch==2.3.0) (3.0.2)\n",
      "Requirement already satisfied: charset-normalizer<4,>=2 in /opt/anaconda3/envs/pytorch_env/lib/python3.10/site-packages (from requests->torchtext==0.18.0) (3.4.1)\n",
      "Requirement already satisfied: idna<4,>=2.5 in /opt/anaconda3/envs/pytorch_env/lib/python3.10/site-packages (from requests->torchtext==0.18.0) (3.10)\n",
      "Requirement already satisfied: urllib3<3,>=1.21.1 in /opt/anaconda3/envs/pytorch_env/lib/python3.10/site-packages (from requests->torchtext==0.18.0) (2.3.0)\n",
      "Requirement already satisfied: certifi>=2017.4.17 in /opt/anaconda3/envs/pytorch_env/lib/python3.10/site-packages (from requests->torchtext==0.18.0) (2024.12.14)\n",
      "Requirement already satisfied: mpmath<1.4,>=1.1.0 in /opt/anaconda3/envs/pytorch_env/lib/python3.10/site-packages (from sympy->torch==2.3.0) (1.3.0)\n",
      "Downloading torch-2.3.0-cp310-none-macosx_11_0_arm64.whl (61.0 MB)\n",
      "\u001b[2K   \u001b[90m━━━━━━━━━━━━━━━━━━━━━━━━━━━━━━━━━━━━━━━━\u001b[0m \u001b[32m61.0/61.0 MB\u001b[0m \u001b[31m71.0 MB/s\u001b[0m eta \u001b[36m0:00:00\u001b[0ma \u001b[36m0:00:01\u001b[0m\n",
      "\u001b[?25hUsing cached torchtext-0.18.0-cp310-cp310-macosx_11_0_arm64.whl (2.1 MB)\n",
      "Installing collected packages: torch, torchtext\n",
      "  Attempting uninstall: torch\n",
      "    Found existing installation: torch 2.2.2\n",
      "    Uninstalling torch-2.2.2:\n",
      "      Successfully uninstalled torch-2.2.2\n",
      "  Attempting uninstall: torchtext\n",
      "    Found existing installation: torchtext 0.17.2\n",
      "    Uninstalling torchtext-0.17.2:\n",
      "      Successfully uninstalled torchtext-0.17.2\n",
      "Successfully installed torch-2.3.0 torchtext-0.18.0\n"
     ]
    }
   ],
   "source": [
    "# Install packages\n",
    "! pip install Levenshtein\n",
    "! pip install matplotlib\n",
    "!pip install torch==2.3.0 torchtext==0.18.0"
   ]
  },
  {
   "cell_type": "markdown",
   "id": "6347b183-3ddd-4f88-87f6-34b4fa12e17a",
   "metadata": {},
   "source": [
    "### Importing required libraries\n"
   ]
  },
  {
   "cell_type": "code",
   "execution_count": 2,
   "id": "c69cc894-3a47-4d8e-b56e-1f05815fe35d",
   "metadata": {},
   "outputs": [
    {
     "name": "stderr",
     "output_type": "stream",
     "text": [
      "/opt/anaconda3/envs/pytorch_env/lib/python3.10/site-packages/torchtext/data/__init__.py:4: UserWarning: \n",
      "/!\\ IMPORTANT WARNING ABOUT TORCHTEXT STATUS /!\\ \n",
      "Torchtext is deprecated and the last released version will be 0.18 (this one). You can silence this warning by calling the following at the beginnign of your scripts: `import torchtext; torchtext.disable_torchtext_deprecation_warning()`\n",
      "  warnings.warn(torchtext._TORCHTEXT_DEPRECATION_MSG)\n",
      "/opt/anaconda3/envs/pytorch_env/lib/python3.10/site-packages/torchtext/vocab/__init__.py:4: UserWarning: \n",
      "/!\\ IMPORTANT WARNING ABOUT TORCHTEXT STATUS /!\\ \n",
      "Torchtext is deprecated and the last released version will be 0.18 (this one). You can silence this warning by calling the following at the beginnign of your scripts: `import torchtext; torchtext.disable_torchtext_deprecation_warning()`\n",
      "  warnings.warn(torchtext._TORCHTEXT_DEPRECATION_MSG)\n",
      "/opt/anaconda3/envs/pytorch_env/lib/python3.10/site-packages/torchtext/utils.py:4: UserWarning: \n",
      "/!\\ IMPORTANT WARNING ABOUT TORCHTEXT STATUS /!\\ \n",
      "Torchtext is deprecated and the last released version will be 0.18 (this one). You can silence this warning by calling the following at the beginnign of your scripts: `import torchtext; torchtext.disable_torchtext_deprecation_warning()`\n",
      "  warnings.warn(torchtext._TORCHTEXT_DEPRECATION_MSG)\n"
     ]
    }
   ],
   "source": [
    "import os\n",
    "import sys\n",
    "import time\n",
    "import warnings\n",
    "from pathlib import Path\n",
    "import matplotlib.pyplot as plt\n",
    "\n",
    "import numpy as np\n",
    "import torch\n",
    "import torch.nn as nn\n",
    "import torch.nn.functional as F\n",
    "import requests\n",
    "\n",
    "from Levenshtein import distance\n",
    "from torchtext.data.utils import get_tokenizer\n",
    "from torchtext.vocab import build_vocab_from_iterator\n",
    "\n",
    "# You can also use this section to suppress warnings generated by your code:\n",
    "def warn(*args, **kwargs):\n",
    "    pass\n",
    "import warnings\n",
    "warnings.warn = warn\n",
    "warnings.filterwarnings('ignore')"
   ]
  },
  {
   "cell_type": "markdown",
   "id": "168128d6-b08d-4e69-82ff-343ebe7e57fa",
   "metadata": {},
   "source": [
    "In this section, initialize our neural network's training environment and set up various hyperparameters for our model:\n",
    "\n",
    "- **Device setup**: We assign the computations to a GPU if available, otherwise, we use the CPU. Utilizing a GPU can significantly speed up the training of deep learning models. If CUDA is available we will set it to `cuda` else we will set it to `cpu`. Compute Unified Device Architecture (CUDA) is a parallel computing platform and application programming interface (API) enabling software to leverage specific graphics processing units (GPUs) for accelerated general-purpose processing, known as general-purpose computing on GPUs.\n",
    "\n",
    "  >In this lab environment, you don't have `cuda`.\n",
    "\n",
    "- **Training parameters**: \n",
    "  - `learning_rate`: This is the step size at each iteration while moving toward a minimum of the loss function. We've set it to `3e-4`, which is a common starting point for many models.\n",
    "  - `batch_size`: The number of samples that will be propagated through the network in one forward/backward pass. Here, it's `64`.\n",
    "  - `max_iters`: The total number of training iterations we plan to run. Set to `5000` to allow the model ample opportunity to learn from the data.\n",
    "  - `eval_interval` and `eval_iters`: Parameters defining how frequently we evaluate the model's performance on a set number of batches to approximate loss.\n",
    "\n",
    "- **Architecture parameters**: \n",
    "  - `max_vocab_size`: This represents the maximum number of tokens in our vocabulary. It's set to `256`, meaning that we will only consider the most frequent 256 tokens.\n",
    "  - `vocab_size`: The actual number of tokens in the vocabulary, which may be less than the maximum due to the variable length of tokens in subword tokenization like BPE (Byte Pair Encoding).\n",
    "  - `block_size`: The length of the input sequence that the model is designed to handle. Here it's `16`.\n",
    "  - `n_embd`: The size of each embedding vector, set to `32`. Embeddings convert tokens into a continuous space where similar tokens are closer to each other.\n",
    "  - `num_heads`: The number of heads in the multi-headed self-attention mechanism, `2` in this case, which allows the model to jointly attend to information from different representation subspaces.\n",
    "  - `n_layer`: The number of layers (or depth) of the network. Here, `2` layers are used.\n",
    "  - `ff_scale_factor`: A scaling factor for the size of the feed-forward networks, chosen as `4` here.\n",
    "  - `dropout`: The dropout rate used for regularization to prevent overfitting, set at `0.0`, indicating no dropout in this case.\n",
    "\n",
    "Finally, you have a `head_size` calculation that is derived from the embedding size and number of heads, ensuring that each head has an equal chunk of the embedding size to work with. We also include an assertion to verify that the `head_size` times `num_heads` equals the `n_embd`.\n"
   ]
  },
  {
   "cell_type": "code",
   "execution_count": 3,
   "id": "0669bf46-7105-4c28-9a54-b210fb5eded6",
   "metadata": {},
   "outputs": [],
   "source": [
    "# Device for training\n",
    "device = 'cuda' if torch.cuda.is_available() else 'cpu'\n",
    "split = 'train'\n",
    "\n",
    "# Training parameters\n",
    "learning_rate = 3e-4\n",
    "batch_size = 64\n",
    "max_iters = 5000              # Maximum training iterations\n",
    "eval_interval = 200           # Evaluate model every 'eval_interval' iterations in the training loop\n",
    "eval_iters = 100              # When evaluating, approximate loss using 'eval_iters' batches\n",
    "\n",
    "# Architecture parameters\n",
    "max_vocab_size = 256          # Maximum vocabulary size\n",
    "vocab_size = max_vocab_size   # Real vocabulary size (e.g. BPE has a variable length, so it can be less than 'max_vocab_size')\n",
    "block_size = 16               # Context length for predictions\n",
    "n_embd = 32                   # Embedding size\n",
    "num_heads = 2                 # Number of head in multi-headed attention\n",
    "n_layer = 2                   # Number of Blocks\n",
    "ff_scale_factor = 4           # Note: The '4' magic number is from the paper: In equation 2 uses d_model=512, but d_ff=2048\n",
    "dropout = 0.0                 # Normalization using dropout# 10.788929 M parameters\n",
    "\n",
    "head_size = n_embd // num_heads\n",
    "assert (num_heads * head_size) == n_embd"
   ]
  },
  {
   "cell_type": "markdown",
   "id": "dac22cfb-8281-428f-80e5-2cf55a96e08f",
   "metadata": {},
   "source": [
    "Following the parameter setup, you will create a function defined as `plot_embeddings`, which is designed to visualize the learned embeddings in a 3D space using `matplotlib`. This helps in understanding how the embeddings cluster and separate different tokens, providing insight into what the model has learned.\n"
   ]
  },
  {
   "cell_type": "code",
   "execution_count": 4,
   "id": "906a4f52-d591-4696-9f12-6ad3340ccbc3",
   "metadata": {},
   "outputs": [],
   "source": [
    "def plot_embdings(my_embdings,name,vocab):\n",
    "\n",
    "  fig = plt.figure()\n",
    "  ax = fig.add_subplot(111, projection='3d')\n",
    "\n",
    "  # Plot the data points\n",
    "  ax.scatter(my_embdings[:,0], my_embdings[:,1], my_embdings[:,2])\n",
    "\n",
    "  # Label the points\n",
    "  for j, label in enumerate(name):\n",
    "      i=vocab.get_stoi()[label]\n",
    "      ax.text(my_embdings[j,0], my_embdings[j,1], my_embdings[j,2], label)\n",
    "\n",
    "  # Set axis labels\n",
    "  ax.set_xlabel('X Label')\n",
    "  ax.set_ylabel('Y Label')\n",
    "  ax.set_zlabel('Z Label')\n",
    "\n",
    "  # Show the plot\n",
    "  plt.show()"
   ]
  },
  {
   "cell_type": "markdown",
   "id": "f54d40d3-32e1-47da-ad06-3f400b6ef9f2",
   "metadata": {},
   "source": [
    "## Program for literal translation\n",
    "\n",
    "In the next part, let's explore the fundamental concepts of tokenization and translation through a simple program for literal translation from French to English:\n",
    "\n",
    "- A `dictionary` is defined, mapping French words to their English equivalents, forming the basis of our translation logic.\n"
   ]
  },
  {
   "cell_type": "code",
   "execution_count": 5,
   "id": "2056c807-815e-4915-99b5-ecfacf83124c",
   "metadata": {},
   "outputs": [],
   "source": [
    "dictionary = {\n",
    "    'le': 'the'\n",
    "    , 'chat': 'cat'\n",
    "    , 'est': 'is'\n",
    "    , 'sous': 'under'\n",
    "    , 'la': 'the'\n",
    "    , 'table': 'table'\n",
    "}"
   ]
  },
  {
   "cell_type": "markdown",
   "id": "ef2248b4-dbec-4bbd-ba5d-aa674c6b90de",
   "metadata": {},
   "source": [
    "- The `tokenize` function is responsible for breaking down a sentence into individual words.\n",
    "- The `translate` function uses this `tokenize` function to split the input sentence and then translates each word according to the dictionary. The translated words are concatenated to form the output sentence.\n"
   ]
  },
  {
   "cell_type": "code",
   "execution_count": 6,
   "id": "7757af58-689f-4eb5-bdc1-c4f6a83f523f",
   "metadata": {},
   "outputs": [],
   "source": [
    "# Function to split a sentence into tokens (words)\n",
    "def tokenize(text):\n",
    "    \"\"\"\n",
    "    This function takes a string of text as input and returns a list of words (tokens).\n",
    "    It uses the split method, which by default splits on any whitespace, to tokenize the text.\n",
    "    \"\"\"\n",
    "    return text.split()  # Split the input text on whitespace and return the list of tokens\n",
    "\n",
    "# Function to translate a sentence from source to target language word by word\n",
    "def translate(sentence):\n",
    "    \"\"\"\n",
    "    This function translates a sentence by looking up each word's translation in a predefined dictionary.\n",
    "    It assumes that every word in the sentence is a key in the dictionary.\n",
    "    \"\"\"\n",
    "    out = ''  # Initialize the output string\n",
    "    for token in tokenize(sentence):  # Tokenize the sentence into words\n",
    "        # Append the translated word to the output string\n",
    "        # This line assumes the dictionary contains a translation for every word in the input\n",
    "        out += dictionary[token] + ' '\n",
    "    return out.strip()  # Return the translated sentence, stripping any extra whitespace"
   ]
  },
  {
   "cell_type": "markdown",
   "id": "d4ab0387-6586-4fb5-8fd7-f485252fd8eb",
   "metadata": {},
   "source": [
    "- Finally, the `translate` function is demonstrated with the input \"le chat est sous la table\", which translates to \"the cat is under the table\" in English.\n"
   ]
  },
  {
   "cell_type": "code",
   "execution_count": 7,
   "id": "afd43ebd-4a9e-40a2-bd45-0a1d679df249",
   "metadata": {},
   "outputs": [
    {
     "data": {
      "text/plain": [
       "'the cat is under the table'"
      ]
     },
     "execution_count": 7,
     "metadata": {},
     "output_type": "execute_result"
    }
   ],
   "source": [
    "translate(\"le chat est sous la table\")"
   ]
  },
  {
   "cell_type": "markdown",
   "id": "00255b11-d62c-4d12-8985-eb67ee0a9455",
   "metadata": {},
   "source": [
    "This straightforward example illustrates a word-by-word replacement, which, while not sophisticated, provides an introduction to computational translation methods.\n"
   ]
  },
  {
   "cell_type": "markdown",
   "id": "c837410f-7c84-4fe8-9f3a-51ae21eec0c2",
   "metadata": {},
   "source": [
    "### Improvement: What if the 'key' is not in the dictionary?\n",
    "\n",
    "The code presents an enhancement to the translation program, addressing the scenario when a word does not exist in our dictionary:\n",
    "\n",
    "- **find_closest_key Function**: This new function aims to find the closest key in the dictionary to a given query word. It uses the **Levenshtein distance** (a measure of the difference between two sequences) to find the dictionary key with the minimum distance to the query, suggesting a similar word if an exact match isn't found.\n",
    "\n",
    "- **Improved translate function**: The `translate` function is updated to use `find_closest_key`. Now, instead of directly translating tokens based on the dictionary, it first finds the closest key for each tokenized word. This allows for a more robust translation, especially when encountering words with minor spelling errors or variations not present in the dictionary.\n",
    "\n",
    "- **Demonstration**: The improved translate function is demonstrated with the input \"tables\". Although \"tables\" is not in the dictionary, the function is expected to find and use the closest key \"table\" for the translation, outputting \"table\" in English.\n",
    "\n",
    "This improvement showcases a simple form of error handling and fuzzy matching in translation systems, allowing for more flexible and fault-tolerant translations.\n"
   ]
  },
  {
   "cell_type": "code",
   "execution_count": 8,
   "id": "1f949b03-266d-4d42-9ebb-3930e1da86d6",
   "metadata": {},
   "outputs": [],
   "source": [
    "# Function to find the closest key in the dictionary to the given query word\n",
    "def find_closest_key(query):\n",
    "    \"\"\"\n",
    "    The function computes the Levenshtein distance between the query and each key in the dictionary.\n",
    "    The Levenshtein distance is a measure of the number of single-character edits required to change one word into the other.\n",
    "    \"\"\"\n",
    "    closest_key, min_dist = None, float('inf')  # Initialize the closest key and minimum distance to infinity\n",
    "    for key in dictionary.keys():\n",
    "        dist = distance(query, key)  # Calculate the Levenshtein distance to the current key\n",
    "        if dist < min_dist:  # If the current distance is less than the previously found minimum\n",
    "            min_dist, closest_key = dist, key  # Update the minimum distance and the closest key\n",
    "    return closest_key  # Return the closest key found\n",
    "\n",
    "# Function to translate a sentence from source to target language using the dictionary\n",
    "def translate(sentence):\n",
    "    \"\"\"\n",
    "    This function tokenizes the input sentence into words and finds the closest translation for each word.\n",
    "    It constructs the translated sentence by appending the translated words together.\n",
    "    \"\"\"\n",
    "    out = ''  # Initialize the output string\n",
    "    for query in tokenize(sentence):  # Tokenize the sentence into words\n",
    "        key = find_closest_key(query)  # Find the closest key in the dictionary for each word\n",
    "        out += dictionary[key] + ' '  # Append the translation of the closest key to the output string\n",
    "    return out.strip()  # Return the translated sentence, stripping any extra whitespace"
   ]
  },
  {
   "cell_type": "code",
   "execution_count": 9,
   "id": "b4fc8cbe-a520-4d84-abed-170504845e76",
   "metadata": {},
   "outputs": [
    {
     "data": {
      "text/plain": [
       "'table'"
      ]
     },
     "execution_count": 9,
     "metadata": {},
     "output_type": "execute_result"
    }
   ],
   "source": [
    "translate(\"tables\")"
   ]
  },
  {
   "cell_type": "markdown",
   "id": "831e8980-5c09-4778-9f7a-84e3c3b4c23a",
   "metadata": {},
   "source": [
    "## Convert to neural network\n",
    "\n",
    "Transitioning from basic translation to neural networks, let's start by defining our input and output vocabularies and then move on to encoding our tokens:\n",
    "\n",
    "- **Vocabulary definition**: Two vocabularies are created from the dictionary—`vocabulary_in` for the source language (French) and `vocabulary_out` for the target language (English). These vocabularies are the lists of unique words obtained from the dictionary's keys and values, respectively, and they are sorted to maintain a consistent order.\n",
    "\n",
    "- **One-hot encoding**: The `encode_one_hot` function is introduced to convert each word in the vocabulary into a one-hot encoded vector. One-hot encoding is a process where represents each word as a binary vector with a '1' in the position corresponding to the word's index in the vocabulary and '0's elsewhere. This creates a unique, fixed-size vector for each word, which is essential for neural network processing.\n",
    "\n",
    "- **Encoding demonstration**: Demonstrate the one-hot encoding process by applying `encode_one_hot` to our input vocabulary (`vocabulary_in`) and showing the encoded vectors for each word. The same process is then applied to the output vocabulary (`vocabulary_out`).\n",
    "\n",
    "This step is critical in machine learning as it prepares our textual data for input into a neural network, allowing it to learn from and make predictions on our data.\n"
   ]
  },
  {
   "cell_type": "markdown",
   "id": "93def216-130d-4052-90e5-bd8290d95b36",
   "metadata": {},
   "source": [
    "### Define 'vocabularies'\n"
   ]
  },
  {
   "cell_type": "code",
   "execution_count": 10,
   "id": "2719e553-0c32-445e-9e5c-bc149bd37c86",
   "metadata": {},
   "outputs": [
    {
     "name": "stdout",
     "output_type": "stream",
     "text": [
      "Vocabulary input (6): ['chat', 'est', 'la', 'le', 'sous', 'table']\n",
      "Vocabulary output (5): ['cat', 'is', 'table', 'the', 'under']\n"
     ]
    }
   ],
   "source": [
    "# Create and sort the input vocabulary from the dictionary's keys\n",
    "vocabulary_in = sorted(list(set(dictionary.keys())))\n",
    "# Display the size and the sorted vocabulary for the input language\n",
    "print(f\"Vocabulary input ({len(vocabulary_in)}): {vocabulary_in}\")\n",
    "\n",
    "# Create and sort the output vocabulary from the dictionary's values\n",
    "vocabulary_out = sorted(list(set(dictionary.values())))\n",
    "# Display the size and the sorted vocabulary for the output language\n",
    "print(f\"Vocabulary output ({len(vocabulary_out)}): {vocabulary_out}\")"
   ]
  },
  {
   "cell_type": "markdown",
   "id": "ad431d44-5aa3-432c-a8a6-0d2070a58be3",
   "metadata": {},
   "source": [
    "### Encode tokens using 'one hot' encoding\n"
   ]
  },
  {
   "cell_type": "code",
   "execution_count": 11,
   "id": "a52bc182-637d-4229-8340-79f991218ef2",
   "metadata": {},
   "outputs": [],
   "source": [
    "# Function to convert a list of vocabulary words into one-hot encoded vectors\n",
    "def encode_one_hot(vocabulary):\n",
    "    vocabulary_size = len(vocabulary)  # Get the size of the vocabulary\n",
    "    one_hot = dict()  # Initialize a dictionary to hold our one-hot encodings\n",
    "    LEN = len(vocabulary)  # The length of each one-hot encoded vector will be equal to the vocabulary size\n",
    "    \n",
    "    # Iterate over the vocabulary to create a one-hot encoded vector for each word\n",
    "    for i, key in enumerate(vocabulary):\n",
    "        one_hot_vector = torch.zeros(LEN)  # Start with a vector of zeros\n",
    "        one_hot_vector[i] = 1  # Set the i-th position to 1 for the current word\n",
    "        one_hot[key] = one_hot_vector  # Map the word to its one-hot encoded vector\n",
    "        print(f\"{key}\\t: {one_hot[key]}\")  # Print each word and its encoded vector\n",
    "    \n",
    "    return one_hot  # Return the dictionary of words and their one-hot encoded vectors"
   ]
  },
  {
   "cell_type": "code",
   "execution_count": 12,
   "id": "fae271f3-3d0f-46df-91e4-993d278cace8",
   "metadata": {},
   "outputs": [
    {
     "name": "stdout",
     "output_type": "stream",
     "text": [
      "chat\t: tensor([1., 0., 0., 0., 0., 0.])\n",
      "est\t: tensor([0., 1., 0., 0., 0., 0.])\n",
      "la\t: tensor([0., 0., 1., 0., 0., 0.])\n",
      "le\t: tensor([0., 0., 0., 1., 0., 0.])\n",
      "sous\t: tensor([0., 0., 0., 0., 1., 0.])\n",
      "table\t: tensor([0., 0., 0., 0., 0., 1.])\n"
     ]
    }
   ],
   "source": [
    "# Apply the one-hot encoding function to the input vocabulary and store the result\n",
    "one_hot_in = encode_one_hot(vocabulary_in)"
   ]
  },
  {
   "cell_type": "code",
   "execution_count": 13,
   "id": "ff986e7f-ef52-46a9-b571-6f7e0793bbc5",
   "metadata": {},
   "outputs": [
    {
     "name": "stdout",
     "output_type": "stream",
     "text": [
      "E_{ chat } =  tensor([1., 0., 0., 0., 0., 0.])\n",
      "E_{ est } =  tensor([0., 1., 0., 0., 0., 0.])\n",
      "E_{ la } =  tensor([0., 0., 1., 0., 0., 0.])\n",
      "E_{ le } =  tensor([0., 0., 0., 1., 0., 0.])\n",
      "E_{ sous } =  tensor([0., 0., 0., 0., 1., 0.])\n",
      "E_{ table } =  tensor([0., 0., 0., 0., 0., 1.])\n"
     ]
    }
   ],
   "source": [
    "# Iterate over the one-hot encoded input vocabulary and print each vector\n",
    "# This visualizes the one-hot representation for each word in the input vocabulary\n",
    "for k, v in one_hot_in.items():\n",
    "    print(f\"E_{{ {k} }} = \" , v)"
   ]
  },
  {
   "cell_type": "code",
   "execution_count": 14,
   "id": "7b589650-9a8e-4d0f-b963-5be6cf0121ed",
   "metadata": {},
   "outputs": [
    {
     "name": "stdout",
     "output_type": "stream",
     "text": [
      "cat\t: tensor([1., 0., 0., 0., 0.])\n",
      "is\t: tensor([0., 1., 0., 0., 0.])\n",
      "table\t: tensor([0., 0., 1., 0., 0.])\n",
      "the\t: tensor([0., 0., 0., 1., 0.])\n",
      "under\t: tensor([0., 0., 0., 0., 1.])\n"
     ]
    }
   ],
   "source": [
    "# Apply the one-hot encoding function to the output vocabulary and store the result\n",
    "# This time we're encoding the target language vocabulary\n",
    "one_hot_out = encode_one_hot(vocabulary_out)"
   ]
  },
  {
   "cell_type": "markdown",
   "id": "ad71c831-0951-4ac5-a299-2a723f1cc2e9",
   "metadata": {},
   "source": [
    "### Let's create a 'dictionary' using matrix multiplication\n",
    "\n",
    "We're now illustrating how to create a representation of our dictionary suitable for neural network operations:\n",
    "\n",
    "- **Matrix creation**: Using PyTorch's `torch.stack`, convert the one-hot encoded vectors for both input (`K`) and output (`V`) vocabularies into tensors. `K` is constructed from the input vocabulary's one-hot vectors, and `V` from the output vocabulary's vectors. These tensors can be thought of as a look-up table that our model will use to associate input tokens with output tokens.\n",
    "\n",
    "- **Dictionary as matrices**: This step effectively translates our word-to-word dictionary mapping into a neural network-friendly format. Each row in `K` corresponds to a word in the input language represented as a one-hot vector, and each row in `V` corresponds to the respective translated word in the output language.\n",
    "\n",
    "- **Query example**: An example shows how to use matrix operations to find a translation. Look up the one-hot vector for the word \"sous\" from the input vocabulary (`q`). Then demonstrate how to find its corresponding translation by performing matrix multiplication with the transpose of `K` (i.e., `q @ K.T`) to identify the index and then use that index to select the relevant row from `V`. This process mimics the lookup the you would perform in an actual neural network during translation tasks.\n",
    "\n",
    "This matrix representation is a precursor to understanding how more complex neural network architectures, like those using self-attention, manage token translations.\n"
   ]
  },
  {
   "cell_type": "code",
   "execution_count": 15,
   "id": "520d65a1-5935-4725-88b3-3a891a131570",
   "metadata": {},
   "outputs": [
    {
     "name": "stdout",
     "output_type": "stream",
     "text": [
      "tensor([[0., 0., 0., 1., 0., 0.],\n",
      "        [1., 0., 0., 0., 0., 0.],\n",
      "        [0., 1., 0., 0., 0., 0.],\n",
      "        [0., 0., 0., 0., 1., 0.],\n",
      "        [0., 0., 1., 0., 0., 0.],\n",
      "        [0., 0., 0., 0., 0., 1.]])\n"
     ]
    }
   ],
   "source": [
    "# Stacking the one-hot encoded vectors for input vocabulary to form a tensor\n",
    "K = torch.stack([one_hot_in[k] for k in dictionary.keys()])\n",
    "# K now represents a matrix of one-hot vectors for the input vocabulary\n",
    "\n",
    "# Display the tensor for verification\n",
    "print(K)"
   ]
  },
  {
   "cell_type": "code",
   "execution_count": 16,
   "id": "3963e967-3931-40dc-8277-05a45aa19fab",
   "metadata": {},
   "outputs": [
    {
     "name": "stdout",
     "output_type": "stream",
     "text": [
      "tensor([[0., 0., 0., 1., 0.],\n",
      "        [1., 0., 0., 0., 0.],\n",
      "        [0., 1., 0., 0., 0.],\n",
      "        [0., 0., 0., 0., 1.],\n",
      "        [0., 0., 0., 1., 0.],\n",
      "        [0., 0., 1., 0., 0.]])\n"
     ]
    }
   ],
   "source": [
    "# Similarly, stack the one-hot encoded vectors for output vocabulary to form a tensor\n",
    "V = torch.stack([one_hot_out[k] for k in dictionary.values()])\n",
    "# V represents the corresponding matrix of one-hot vectors for the output vocabulary\n",
    "\n",
    "# Display the tensor for verification\n",
    "print(V)"
   ]
  },
  {
   "cell_type": "code",
   "execution_count": 17,
   "id": "d27a3534-2954-496a-bc91-fc77763def18",
   "metadata": {},
   "outputs": [
    {
     "name": "stdout",
     "output_type": "stream",
     "text": [
      "Query token : tensor([0., 0., 0., 0., 1., 0.])\n"
     ]
    }
   ],
   "source": [
    "# Demonstrating how to look up a translation for a given word using matrix operations\n",
    "# Here, we take the one-hot representation of 'sous' from the input vocabulary\n",
    "q = one_hot_in['sous']\n",
    "# Display the query token vector\n",
    "print(\"Query token :\", q)"
   ]
  },
  {
   "cell_type": "code",
   "execution_count": 19,
   "id": "b4df096f-3813-43c5-b10d-bec14c81dd13",
   "metadata": {},
   "outputs": [
    {
     "name": "stdout",
     "output_type": "stream",
     "text": [
      "Select key (K) : tensor([0., 0., 0., 1., 0., 0.])\n"
     ]
    }
   ],
   "source": [
    "# Select the corresponding key vector in K (input dictionary matrix) using matrix multiplication\n",
    "# This operation gives us the index where 'sous' would be '1' in the one-hot encoded input matrix\n",
    "print(\"Select key (K) :\", q @ K.T)"
   ]
  },
  {
   "cell_type": "code",
   "execution_count": 20,
   "id": "26f3d777-ba93-4524-a572-713103be85a7",
   "metadata": {},
   "outputs": [
    {
     "name": "stdout",
     "output_type": "stream",
     "text": [
      "Select value (V): tensor([0., 0., 0., 0., 1.])\n"
     ]
    }
   ],
   "source": [
    "# Use the index found from the key selection to find the corresponding value vector in V (output dictionary matrix)\n",
    "# This operation selects the row from V that is the translation of 'sous' in the output vocabulary\n",
    "print(\"Select value (V):\", q @ K.T @ V)\n",
    "\n",
    "# The final output demonstrates how 'sous' can be translated using the neural network approach"
   ]
  },
  {
   "cell_type": "markdown",
   "id": "e3fdb198-0fd8-4c9b-960e-23c0fce68653",
   "metadata": {},
   "source": [
    "Query vector, K matrix, and V matrix:\n",
    "\n",
    "$$\n",
    "q = \\left[\\begin{matrix}\n",
    "  0 & 0 & 0 & 0 & 1 & 0\\\\\\\\\\\\\\\\\\\\\\\\\n",
    "\\end{matrix}\\right]\n",
    "; \\\n",
    "K = \\left[\\begin{matrix}\n",
    "  0 & 0 & 0 & 1 & 0 & 0\\\\\\\\\n",
    "  1 & 0 & 0 & 0 & 0 & 0\\\\\\\\\n",
    "  0 & 1 & 0 & 0 & 0 & 0\\\\\\\\\n",
    "  0 & 0 & 0 & 0 & 1 & 0\\\\\\\\\n",
    "  0 & 0 & 1 & 0 & 0 & 0\\\\\\\\\n",
    "  0 & 0 & 0 & 0 & 0 & 1\\\\\\\\\n",
    "\\end{matrix}\\right]\n",
    "; \\\n",
    "V = \\left[\\begin{matrix}\n",
    "  0 & 0 & 0 & 1 & 0\\\\\\\\\n",
    "  1 & 0 & 0 & 0 & 0\\\\\\\\\n",
    "  0 & 1 & 0 & 0 & 0\\\\\\\\\n",
    "  0 & 0 & 0 & 0 & 1\\\\\\\\\n",
    "  0 & 0 & 0 & 1 & 0\\\\\\\\\n",
    "  0 & 0 & 1 & 0 & 0\\\\\\\\\n",
    "\\end{matrix}\\right]\n",
    "$$\n"
   ]
  },
  {
   "cell_type": "markdown",
   "id": "8724da9d-c37d-4dfa-9476-fa492c063ef2",
   "metadata": {},
   "source": [
    "The operation $q \\cdot K^T \\cdot V$ allows us to build a dictionary-like structure from a set of vectors\n",
    "\n",
    "This is an example on how to select the value from a query:\n",
    "\n",
    "$$\n",
    "q \\cdot K^T \\cdot V =\n",
    "\\left[\\begin{matrix}\n",
    "  0 & 0 & 0 & 0 & 1 & 0\\\\\\\\\\\\\\\\\\\\\\\\\n",
    "\\end{matrix}\\right]\n",
    "\\cdot\n",
    "\\left[\\begin{matrix}\n",
    "  0 & 1 & 0 & 0 & 0 & 0\\\\\\\\\n",
    "  0 & 0 & 1 & 0 & 0 & 0\\\\\\\\\n",
    "  0 & 0 & 0 & 0 & 1 & 0\\\\\\\\\n",
    "  1 & 0 & 0 & 0 & 0 & 0\\\\\\\\\n",
    "  0 & 0 & 0 & 1 & 0 & 0\\\\\\\\\n",
    "  0 & 0 & 0 & 0 & 0 & 1\\\\\\\\\n",
    "\\end{matrix}\\right]\n",
    "\\cdot\n",
    "\\left[\\begin{matrix}\n",
    "  0 & 0 & 0 & 1 & 0\\\\\\\\\n",
    "  1 & 0 & 0 & 0 & 0\\\\\\\\\n",
    "  0 & 1 & 0 & 0 & 0\\\\\\\\\n",
    "  0 & 0 & 0 & 0 & 1\\\\\\\\\n",
    "  0 & 0 & 0 & 1 & 0\\\\\\\\\n",
    "  0 & 0 & 1 & 0 & 0\\\\\\\\\n",
    "\\end{matrix}\\right]\n",
    "$$\n"
   ]
  },
  {
   "cell_type": "markdown",
   "id": "170b5a6c-ff10-477d-8fd3-d24c9a4f92d8",
   "metadata": {},
   "source": [
    "$$\n",
    "q \\cdot K^T \\cdot V =\n",
    "%\\hspace{2cm}\n",
    "\\left[\\begin{matrix}\n",
    "  0 & 0 & 0 & 1 & 0 & 0\\\\\\\\\\\\\\\\\\\\\\\\\n",
    "\\end{matrix}\\right]\n",
    "%\\hspace{2.5cm}\n",
    "\\cdot\n",
    "\\left[\\begin{matrix}\n",
    "  0 & 0 & 0 & 1 & 0\\\\\\\\\n",
    "  1 & 0 & 0 & 0 & 0\\\\\\\\\n",
    "  0 & 1 & 0 & 0 & 0\\\\\\\\\n",
    "  0 & 0 & 0 & 0 & 1\\\\\\\\\n",
    "  0 & 0 & 0 & 1 & 0\\\\\\\\\n",
    "  0 & 0 & 1 & 0 & 0\\\\\\\\\n",
    "\\end{matrix}\\right]\n",
    "\\hspace{4.5cm}\n",
    "$$\n"
   ]
  },
  {
   "cell_type": "markdown",
   "id": "dc3934d0-2702-4db3-bd22-a7560dc425e9",
   "metadata": {},
   "source": [
    "$$\n",
    "q \\cdot K^T \\cdot V\n",
    "=\n",
    "%\\hspace{3.5cm}\n",
    "\\left[\\begin{matrix}\n",
    "0 & 0 & 0 & 0 & 1\\\\\\\\\\\\\\\\\\\\\\\\\n",
    "\\end{matrix}\\right]\n",
    "%\\hspace{3.5cm}\n",
    "\\hspace{9cm}\n",
    "$$\n"
   ]
  },
  {
   "cell_type": "markdown",
   "id": "614b8bdc-70bb-4906-8c93-57f9cdc6f4a2",
   "metadata": {},
   "source": [
    "The code introduces a function for decoding one-hot vectors to tokens and updates the translation function to utilize matrix multiplication:\n",
    "\n",
    "### Decode one-hot vector\n",
    "The `decode_one_hot` function is designed to decode a one-hot encoded vector back into the corresponding token (word). It does this by finding the token whose one-hot representation has the highest cosine similarity with the given vector, which is effectively just the dot product due to the nature of one-hot vectors.\n"
   ]
  },
  {
   "cell_type": "code",
   "execution_count": 21,
   "id": "20e784e8-5538-4277-aaaa-2b8a9b2c16d5",
   "metadata": {},
   "outputs": [],
   "source": [
    "def decode_one_hot(one_hot, vector):\n",
    "    \"\"\" \n",
    "    Decode a one-hot encoded vector to find the best matching token in the vocabulary.\n",
    "    \"\"\"\n",
    "    best_key, best_cosine_sim = None, 0\n",
    "    for k, v in one_hot.items():  # Iterate over the one-hot encoded vocabulary\n",
    "        cosine_sim = torch.dot(vector, v)  # Calculate dot product (cosine similarity)\n",
    "        if cosine_sim > best_cosine_sim:  # If this is the best similarity we've found\n",
    "            best_cosine_sim, best_key = cosine_sim, k  # Update the best similarity and token\n",
    "    return best_key  # Return the token corresponding to the one-hot vector"
   ]
  },
  {
   "cell_type": "markdown",
   "id": "14ba0092-7bc4-4389-bde1-0813a7f6fca6",
   "metadata": {},
   "source": [
    "### Matrix-based translate function\n",
    "The `translate` function now leverages matrix operations to perform the translation. For each token in the input sentence, it finds its one-hot vector, multiplies it with the matrices `K.T` and `V` to find the corresponding one-hot vector in the output vocabulary, and then decodes this vector to get the translated word.\n"
   ]
  },
  {
   "cell_type": "code",
   "execution_count": 22,
   "id": "ca6fd752-6f4f-4327-bb50-ee1f0ad5bc84",
   "metadata": {},
   "outputs": [],
   "source": [
    "def translate(sentence):\n",
    "    \"\"\" \n",
    "    Translate a sentence using matrix multiplication, treating the dictionaries as matrices.\n",
    "    \"\"\"\n",
    "    sentence_out = ''  # Initialize the output sentence\n",
    "    for token_in in tokenize(sentence):  # Tokenize the input sentence\n",
    "        q = one_hot_in[token_in]  # Find the one-hot vector for the token\n",
    "        out = q @ K.T @ V  # Multiply with the input and output matrices to find the translation\n",
    "        token_out = decode_one_hot(one_hot_out, out)  # Decode the output one-hot vector to a token\n",
    "        sentence_out += token_out + ' '  # Append the translated token to the output sentence\n",
    "    return sentence_out.strip()  # Return the translated sentence"
   ]
  },
  {
   "cell_type": "markdown",
   "id": "5d0e7df7-967b-445f-be72-edac038c9916",
   "metadata": {},
   "source": [
    "### Translation test\n",
    "The improved translate function is tested with the sentence \"le chat est sous la table\", verifying that it correctly translates to \"the cat is under the table\" using the matrix operations for a seamless word-by-word translation.\n"
   ]
  },
  {
   "cell_type": "code",
   "execution_count": 23,
   "id": "4105f1be-a5da-4faf-af52-1778a6d20587",
   "metadata": {},
   "outputs": [
    {
     "data": {
      "text/plain": [
       "'the cat is under the table'"
      ]
     },
     "execution_count": 23,
     "metadata": {},
     "output_type": "execute_result"
    }
   ],
   "source": [
    "translate(\"le chat est sous la table\")"
   ]
  },
  {
   "cell_type": "markdown",
   "id": "dce32552-a8a6-4469-86d2-8469005cefc4",
   "metadata": {},
   "source": [
    "\n",
    "This enhanced approach shows how neural network models can translate languages by representing the translation dictionary as matrices and using vector operations.\n"
   ]
  },
  {
   "cell_type": "markdown",
   "id": "cf740c70-5f27-499c-b553-8cd570c4f9a0",
   "metadata": {},
   "source": [
    "**The next code segment introduces concepts that lead up to the implementation of \"Attention\" in neural networks:**\n"
   ]
  },
  {
   "cell_type": "markdown",
   "id": "20fc2948-29ac-4aa4-af0b-b588823925a8",
   "metadata": {},
   "source": [
    "### Softmax function for similarity\n",
    "It is explained that similar tokens will have similar vectors, and a softmax function is added to the equation. This function is applied to the output of the matrix multiplication of the query vector `q` and the transpose of the matrix `K`. The softmax function converts these values into probabilities, emphasizing the most similar token while still considering the others.\n"
   ]
  },
  {
   "cell_type": "code",
   "execution_count": 24,
   "id": "623f2654-1829-46d0-ace5-0955faf96f91",
   "metadata": {},
   "outputs": [
    {
     "name": "stdout",
     "output_type": "stream",
     "text": [
      "E_{table} =  tensor([0., 0., 0., 0., 0., 1.])\n"
     ]
    }
   ],
   "source": [
    "print('E_{table} = ', one_hot_in['table'])"
   ]
  },
  {
   "cell_type": "markdown",
   "id": "4bc7b639-d25a-4bb8-9529-87c0f896106e",
   "metadata": {},
   "source": [
    "$$\n",
    "E_{table} =  \\left[\\begin{matrix}\n",
    "  0 & 0 & 0 & 0 & 0 & 1\\\\\\\\\\\\\\\\\\\\\\\\\n",
    "\\end{matrix}\\right]\n",
    "\\ \\ \\\n",
    "$$\n",
    "\n",
    "$$\n",
    "E_{tables} =  \\left[\\begin{matrix}\n",
    "  0 & 0 & 0 & 0 & 0 & 0.95\\\\\\\\\n",
    "\\end{matrix}\\right]\n",
    "$$\n"
   ]
  },
  {
   "cell_type": "markdown",
   "id": "aad51c17-24b9-4544-b148-91e75d405abc",
   "metadata": {},
   "source": [
    "Our new equation is:\n",
    "$$\n",
    "softmax(q \\cdot K^T) \\cdot V\n",
    "$$\n",
    "\n",
    "Let's adjust using by the dimensionality of the query vector, and you'll get:\n",
    "\n",
    "$$\n",
    "softmax\\left( \\frac{q \\cdot K^T}{\\sqrt{d}} \\right) \\cdot V\n",
    "$$\n"
   ]
  },
  {
   "cell_type": "markdown",
   "id": "4e7d7996-6fa6-455c-8679-db5920918ce0",
   "metadata": {},
   "source": [
    "### Translation with attention mechanism\n",
    "The `translate` function is modified to use the softmax function as a way of applying attention. It first finds the one-hot vector for the token, then applies the softmax function to the dot product of `q` and `K.T`, scales it by the square root of the dimensionality (for normalization purposes), and finally multiplies this by `V` to get the output vector.\n"
   ]
  },
  {
   "cell_type": "code",
   "execution_count": 25,
   "id": "72c40d64-ce96-4545-b46e-17c642a7ac8a",
   "metadata": {},
   "outputs": [
    {
     "data": {
      "text/plain": [
       "'the cat is under the table'"
      ]
     },
     "execution_count": 25,
     "metadata": {},
     "output_type": "execute_result"
    }
   ],
   "source": [
    "def translate(sentence):\n",
    "    \"\"\"\n",
    "    Translate a sentence using the attention mechanism represented by the K and V matrices.\n",
    "    The softmax function is used to calculate a weighted sum of the V vectors, focusing on the most relevant vector for translation.\n",
    "    \"\"\"\n",
    "    sentence_out = ''  # Initialize the output sentence\n",
    "    for token_in in tokenize(sentence):  # Tokenize the input sentence\n",
    "        q = one_hot_in[token_in]  # Get the one-hot vector for the current token\n",
    "        # Apply softmax to the scaled dot product of q and K.T, then multiply by V\n",
    "        # This selects the most relevant translation vector from V\n",
    "        out = torch.softmax(q @ K.T, dim=0) @ V\n",
    "        token_out = decode_one_hot(one_hot_out, out)  # Decode the output vector to a token\n",
    "        sentence_out += token_out + ' '  # Append the translated token to the output sentence\n",
    "    return sentence_out.strip()  # Return the translated sentence\n",
    "\n",
    "# Test the translate function\n",
    "translate(\"le chat est sous la table\")"
   ]
  },
  {
   "cell_type": "markdown",
   "id": "25ee29e7-7d2a-432f-b169-abcd290b1296",
   "metadata": {},
   "source": [
    "**Test Translation**: The updated translate function is tested to ensure it correctly processes the sample sentence \"le chat est sous la table\", translating it to \"the cat is under the table\". This verifies that the attention mechanism implemented using softmax works as intended.\n",
    "\n",
    "This step marks the progression from simple look-up-based translation to an attention-based approach, introducing students to a key component of modern neural translation models.\n"
   ]
  },
  {
   "cell_type": "markdown",
   "id": "a32dcfae-7beb-483d-b660-aec24b94bc85",
   "metadata": {},
   "source": [
    "**The next part of the code demonstrates an improvement in the translation process by handling all queries in parallel:**\n"
   ]
  },
  {
   "cell_type": "markdown",
   "id": "987717bf-13dd-4c05-acf1-78363874ca4d",
   "metadata": {},
   "source": [
    "### Creating the 'Q' matrix\n",
    "The matrix `Q` is constructed by stacking the one-hot encoded vectors of all tokens in the input sentence. This parallelizes the process of preparing the query vectors, which is more efficient than doing it sequentially.\n"
   ]
  },
  {
   "cell_type": "code",
   "execution_count": 26,
   "id": "dfe18831-bee8-499c-9f89-25748f1185c4",
   "metadata": {},
   "outputs": [
    {
     "name": "stdout",
     "output_type": "stream",
     "text": [
      "tensor([[0., 0., 0., 1., 0., 0.],\n",
      "        [1., 0., 0., 0., 0., 0.],\n",
      "        [0., 1., 0., 0., 0., 0.],\n",
      "        [0., 0., 0., 0., 1., 0.],\n",
      "        [0., 0., 1., 0., 0., 0.],\n",
      "        [0., 0., 0., 0., 0., 1.]])\n"
     ]
    }
   ],
   "source": [
    "# The sentence we want to translate\n",
    "sentence = \"le chat est sous la table\"\n",
    "\n",
    "# Stack all the one-hot encoded vectors for the tokens in the sentence to form the Q matrix\n",
    "Q = torch.stack([one_hot_in[token] for token in tokenize(sentence)])\n",
    "\n",
    "# Display the Q matrix\n",
    "print(Q)"
   ]
  },
  {
   "cell_type": "markdown",
   "id": "d34abf64-5407-4703-ae2b-6203f6bf199a",
   "metadata": {},
   "source": [
    "$$\n",
    "Q = \\left[\\begin{matrix}\n",
    "  0 & 0 & 0 & 1 & 0 & 0 \\\\\\\\\\\\\\\\\\\\\\\\\n",
    "  1 & 0 & 0 & 0 & 0 & 0 \\\\\\\\\n",
    "  0 & 1 & 0 & 0 & 0 & 0 \\\\\\\\\n",
    "  0 & 0 & 0 & 0 & 1 & 0 \\\\\\\\\n",
    "  0 & 0 & 1 & 0 & 0 & 0 \\\\\\\\\n",
    "  0 & 0 & 0 & 0 & 0 & 1 \\\\\\\\\n",
    "\\end{matrix}\\right]\n",
    "$$\n"
   ]
  },
  {
   "cell_type": "markdown",
   "id": "660b44cd-8790-48f1-96e8-7d12af753a91",
   "metadata": {},
   "source": [
    "$$\n",
    "Attention(Q, K, V) = softmax\\left( \\frac{Q \\cdot K^T}{\\sqrt{d}} \\right) V\n",
    "$$\n"
   ]
  },
  {
   "cell_type": "markdown",
   "id": "1fe70fa5-84e4-48c2-82c7-b0bd955650c4",
   "metadata": {},
   "source": [
    "### Updated translate function\n",
    "The `translate` function is revised to use matrix multiplication across the entire sentence. Instead of translating word by word, it now uses the \"Q\" matrix to perform the operation in parallel for all words.\n"
   ]
  },
  {
   "cell_type": "code",
   "execution_count": 27,
   "id": "e50febf1-af7d-408d-9493-f26456b2e5bc",
   "metadata": {},
   "outputs": [
    {
     "data": {
      "text/plain": [
       "'the cat is under the table'"
      ]
     },
     "execution_count": 27,
     "metadata": {},
     "output_type": "execute_result"
    }
   ],
   "source": [
    "def translate(sentence):\n",
    "    \"\"\"\n",
    "    Translate a sentence using matrix multiplication in parallel.\n",
    "    This function replaces the iterative approach with a single matrix multiplication step,\n",
    "    applying the attention mechanism across all tokens at once.\n",
    "    \"\"\"\n",
    "    # Tokenize the sentence and stack the one-hot vectors to form the Q matrix\n",
    "    Q = torch.stack([one_hot_in[token] for token in tokenize(sentence)])\n",
    "    \n",
    "    # Apply softmax to the dot product of Q and K.T and multiply by V\n",
    "    # This will give us the output vectors for all tokens in parallel\n",
    "    out = torch.softmax(Q @ K.T, 0) @ V\n",
    "    \n",
    "    # Decode each one-hot vector in the output to the corresponding token\n",
    "    # And join the tokens to form the translated sentence\n",
    "    return ' '.join([decode_one_hot(one_hot_out, o) for o in out])\n",
    "    \n",
    "# Test the function to ensure it produces the correct translation\n",
    "translate(\"le chat est sous la table\")"
   ]
  },
  {
   "cell_type": "markdown",
   "id": "4d193902-06fe-4a19-8891-a958e52ea8b9",
   "metadata": {},
   "source": [
    "- **Efficiency improvement**: By applying operations to the entire sentence at once, this approach simulates a key aspect of the actual attention mechanism used in neural networks, which is processing multiple components of input data in parallel for faster computation.\n",
    "\n",
    "- **Test output**: The updated function correctly translates the French sentence \"le chat est sous la table\" to \"the cat is under the table\", confirming that the parallelization works effectively.\n",
    "\n",
    "This optimization hints at the computational advantages of matrix operations in neural networks, particularly for tasks like translation which benefit from parallel processing.\n"
   ]
  },
  {
   "cell_type": "markdown",
   "id": "15f38516-b81f-4ee2-9d55-148b5b08c281",
   "metadata": {},
   "source": [
    "## Self-attention class (optional)\n",
    "In this section, you will learn how to create self-attention heads from scratch. This is an optional component in the lab because you can also create self-attention heads using PyTorch transformer models in `nn.torch` which is discussed in [Transformers in PyTorch](#torchtr). \n",
    "\n",
    "The `Head` class represents a self-attention head. It extends PyTorch's `nn.Module`, making it a part of a neural network that can learn from data.\n",
    "\n",
    "<p style=\"text-align:center\">\n",
    "    <img src=\"https://cf-courses-data.s3.us.cloud-object-storage.appdomain.cloud/IBMSkillsNetwork-AI0201EN-Coursera/attention.png\" width=\"200\" alt=\"attention\"/>\n",
    "</p>\n"
   ]
  },
  {
   "cell_type": "markdown",
   "id": "6c3c919b-f18f-4214-9bed-c208b2893bae",
   "metadata": {},
   "source": [
    "$$\n",
    "Attention(Q, K, V)  => Attention(Q \\cdot W^Q, K \\cdot W^K, V \\cdot W^V)\n",
    "$$\n"
   ]
  },
  {
   "cell_type": "code",
   "execution_count": 28,
   "id": "98fc567a-5717-4f7d-99f3-f52af4ec9509",
   "metadata": {},
   "outputs": [],
   "source": [
    "class Head(nn.Module):\n",
    "    \"\"\" Self attention head. This class implements a self-attention mechanism\n",
    "        which is a key component of transformer-based neural network architectures. \"\"\"\n",
    "\n",
    "    def __init__(self):\n",
    "        super().__init__()  # Initialize the superclass (nn.Module)\n",
    "        # Embedding layer to convert input token indices to vectors of fixed size (n_embd)\n",
    "        self.embedding = nn.Embedding(vocab_size, n_embd)\n",
    "        # Linear layers to compute the queries, keys, and values from the embeddings\n",
    "        self.key = nn.Linear(n_embd, n_embd, bias=False)\n",
    "        self.query = nn.Linear(n_embd, n_embd, bias=False)\n",
    "        self.value = nn.Linear(n_embd, n_embd, bias=False)\n",
    "\n",
    "    def attention(self, x):\n",
    "        embedded_x = self.embedding(x)\n",
    "        k = self.key(embedded_x)\n",
    "        q = self.query(embedded_x)\n",
    "        v = self.value(embedded_x)\n",
    "        # Attention score\n",
    "        w = q @ k.transpose(-2, -1) * k.shape[-1]**-0.5   # Query * Keys / normalization\n",
    "        w = F.softmax(w, dim=-1)  # Do a softmax across the last dimesion\n",
    "        return embedded_x,k,q,v,w\n",
    "    \n",
    "    def forward(self, x):\n",
    "        embedded_x = self.embedding(x)\n",
    "        k = self.key(embedded_x)\n",
    "        q = self.query(embedded_x)\n",
    "        v = self.value(embedded_x)\n",
    "        # Attention score\n",
    "        w = q @ k.transpose(-2, -1) * k.shape[-1]**-0.5   # Query * Keys / normalization\n",
    "        w = F.softmax(w, dim=-1)  # Do a softmax across the last dimesion\n",
    "        # Add weighted values\n",
    "        out = w @ v\n",
    "        return out"
   ]
  },
  {
   "cell_type": "markdown",
   "id": "e60a6757-69bb-4863-93bb-cd6c7b7c62e9",
   "metadata": {},
   "source": [
    "### Dataset definition\n",
    "To illustrate the transformations on input text, a sample dataset is defined, which appears to be a list of tuples, each containing an ID and a string of text related to various NLP tasks.\n"
   ]
  },
  {
   "cell_type": "code",
   "execution_count": 29,
   "id": "c1dcce7c-89bb-464b-aa7a-b0cacdfdde28",
   "metadata": {},
   "outputs": [],
   "source": [
    "dataset = [\n",
    "    (1,\"Introduction to NLP\"),\n",
    "    (2,\"Basics of PyTorch\"),\n",
    "    (1,\"NLP Techniques for Text Classification\"),\n",
    "    (3,\"Named Entity Recognition with PyTorch\"),\n",
    "    (3,\"Sentiment Analysis using PyTorch\"),\n",
    "    (3,\"Machine Translation with PyTorch\"),\n",
    "    (1,\" NLP Named Entity,Sentiment Analysis,Machine Translation \"),\n",
    "    (1,\" Machine Translation with NLP \"),\n",
    "    (1,\" Named Entity vs Sentiment Analysis  NLP \"),\n",
    "    (3,\"he painted the car red\"),\n",
    "    (1,\"he painted the red car\")\n",
    "    ]"
   ]
  },
  {
   "cell_type": "markdown",
   "id": "174b832c-228e-4c82-b0c5-71a87770f9c6",
   "metadata": {},
   "source": [
    "### Tokenization setup\n",
    "A tokenizer is created using `torchtext`'s `get_tokenizer` function which will break down strings into tokens (words).\n"
   ]
  },
  {
   "cell_type": "code",
   "execution_count": 30,
   "id": "2cf8d428-6d36-4458-b9a4-fdcbb62defa7",
   "metadata": {},
   "outputs": [],
   "source": [
    "tokenizer = get_tokenizer(\"basic_english\")  # Get a basic English tokenizer"
   ]
  },
  {
   "cell_type": "markdown",
   "id": "b47eba3d-367f-476b-a19a-ecff0fa2b094",
   "metadata": {},
   "source": [
    "### Vocabulary building\n",
    "The function `yield_tokens` iterates over the dataset and yields tokenized versions of the text data. These tokens are then used by `build_vocab_from_iterator` to create a vocabulary object, which includes a special `<unk>` token for unknown words.\n"
   ]
  },
  {
   "cell_type": "code",
   "execution_count": 31,
   "id": "66ecaf3d-e725-4486-977b-bbaef09fb390",
   "metadata": {},
   "outputs": [],
   "source": [
    "def yield_tokens(data_iter):\n",
    "    \"\"\"Yield list of tokens in the dataset.\"\"\"\n",
    "    for _, text in data_iter:\n",
    "        yield tokenizer(text)\n",
    "\n",
    "vocab = build_vocab_from_iterator(yield_tokens(dataset), specials=[\"<unk>\"])\n",
    "vocab.set_default_index(vocab[\"<unk>\"])  # Set default index for unknown words"
   ]
  },
  {
   "cell_type": "markdown",
   "id": "bd7a419f-4631-4b37-b079-61d804794640",
   "metadata": {},
   "source": [
    "### Text processing pipeline\n",
    "A `text_pipeline` function is defined to convert raw text strings into token indices using the tokenizer and the vocabulary.\n"
   ]
  },
  {
   "cell_type": "code",
   "execution_count": 32,
   "id": "d1b5ce61-0e44-433b-809c-3b615d595609",
   "metadata": {},
   "outputs": [],
   "source": [
    "def text_pipeline(x):\n",
    "    \"\"\"Converts a text string to a list of token indices.\"\"\"\n",
    "    return vocab(tokenizer(x))  # Tokenize the input and map each token to its index in the vocabulary"
   ]
  },
  {
   "cell_type": "markdown",
   "id": "9094421e-2b7c-4590-99e3-4c8401f1df7e",
   "metadata": {},
   "source": [
    "### Hyperparameter definition\n",
    "Hyperparameters for the model are specified, including the size of the vocabulary and the embedding dimension.\n"
   ]
  },
  {
   "cell_type": "code",
   "execution_count": 33,
   "id": "839767f9-5150-44f0-807f-1d0ed4dd27b5",
   "metadata": {},
   "outputs": [],
   "source": [
    "vocab_size = len(vocab)  # Total number of tokens in the vocabulary\n",
    "n_embd = 3  # Dimension of the embedding space\n",
    "\n",
    "# Create the attention head with the integrated embedding layer\n",
    "attention_head = Head()"
   ]
  },
  {
   "cell_type": "markdown",
   "id": "3431ca42-c63d-4c8d-8641-672d4f5ec3b3",
   "metadata": {},
   "source": [
    "### Dummy data for testing\n",
    "Dummy input data is created for testing, and the `text_pipeline` function is applied to convert the input text into a tensor of token indices, which will be used as input to the neural network model.\n"
   ]
  },
  {
   "cell_type": "code",
   "execution_count": 34,
   "id": "aee59d97-51c4-4d6e-afea-01731f1bb0da",
   "metadata": {},
   "outputs": [
    {
     "name": "stdout",
     "output_type": "stream",
     "text": [
      "torch.Size([5])\n",
      "tensor([12, 13, 15, 11, 14])\n"
     ]
    }
   ],
   "source": [
    "# Define the sentence to be tokenized and converted to indices\n",
    "my_tokens = 'he painted the car red'\n",
    "# Apply the text pipeline to the sentence to get token indices\n",
    "input_data = torch.tensor(text_pipeline(my_tokens), dtype=torch.long)\n",
    "\n",
    "# Print out the shape and the token indices tensor\n",
    "print(input_data.shape)\n",
    "print(input_data)"
   ]
  },
  {
   "cell_type": "code",
   "execution_count": 35,
   "id": "ce4c372e-9da7-4e3f-967c-0d9f04371973",
   "metadata": {},
   "outputs": [
    {
     "name": "stdout",
     "output_type": "stream",
     "text": [
      "torch.Size([5, 3])\n",
      "embedded_x: tensor([[-0.1592,  1.4982, -0.2219],\n",
      "        [-0.2016,  1.0514,  0.5718],\n",
      "        [ 0.0249, -0.4572, -1.5804],\n",
      "        [-1.5396, -0.7031,  1.5283],\n",
      "        [-2.1638, -1.8058,  0.1523]], grad_fn=<EmbeddingBackward0>)\n"
     ]
    }
   ],
   "source": [
    "# Pass the tokenized input data through the embedding layer and the attention mechanism of the Head class\n",
    "embedded_x, k, q, v, w = attention_head.attention(input_data)\n",
    "\n",
    "# Print the size of the resulting embedded vector for verification\n",
    "print(embedded_x.shape)  # Should show the shape as [number of tokens, embedding dimension]\n",
    "print(\"embedded_x:\", embedded_x)  # The actual embedded representations of the input tokens"
   ]
  },
  {
   "cell_type": "code",
   "execution_count": 36,
   "id": "0a1fa5a4-6611-4f6c-a6ab-df3175032c63",
   "metadata": {},
   "outputs": [
    {
     "name": "stdout",
     "output_type": "stream",
     "text": [
      "k: torch.Size([5, 3])\n",
      "q: torch.Size([5, 3])\n",
      "v: torch.Size([5, 3])\n",
      "w: torch.Size([5, 5])\n"
     ]
    }
   ],
   "source": [
    "# Print the shapes of the key, query, value, and attention weight matrices\n",
    "# This helps verify the dimensions are as expected for the attention calculations\n",
    "print(\"k:\", k.shape)  # The shape of the keys tensor\n",
    "print(\"q:\", q.shape)  # The shape of the queries tensor\n",
    "print(\"v:\", v.shape)  # The shape of the values tensor\n",
    "print(\"w:\", w.shape)  # The shape of the attention weights tensor"
   ]
  },
  {
   "cell_type": "code",
   "execution_count": 37,
   "id": "98e3a565-a695-49c1-8392-3588fdb66bc9",
   "metadata": {},
   "outputs": [
    {
     "name": "stdout",
     "output_type": "stream",
     "text": [
      "torch.Size([5, 3])\n",
      "tensor([[ 0.2954,  0.3371, -0.1217],\n",
      "        [ 0.2449,  0.2776, -0.1123],\n",
      "        [ 0.2854,  0.3163, -0.1103],\n",
      "        [ 0.0044,  0.0166, -0.0993],\n",
      "        [-0.0622, -0.0446, -0.1119]], grad_fn=<MmBackward0>)\n"
     ]
    }
   ],
   "source": [
    "# Now we actually pass the input data through the entire attention head to get the output\n",
    "output = attention_head(input_data)\n",
    "\n",
    "# Print the output and its shape, which should match the shape of the input\n",
    "# The output tensor contains the final attention-applied representations of the input\n",
    "print(output.shape)\n",
    "print(output)"
   ]
  },
  {
   "cell_type": "markdown",
   "id": "03455a08-6976-48d4-af4d-e04a6e5129be",
   "metadata": {},
   "source": [
    "# Positional encoding\n",
    "\n",
    "To illustrate, consider the sentences: 'He painted the car red' and 'He painted the red car.' These sentences have different meanings due to the different positions of the words 'red' and 'car.' Properly implemented positional encodings would allow the model to distinguish between the positions of these words, ensuring that the embeddings for these sentences are distinct.\n"
   ]
  },
  {
   "cell_type": "markdown",
   "id": "18533ab1-4c9c-4b44-92da-87627eb5c052",
   "metadata": {},
   "source": [
    "In sequence processing tasks, it's crucial for the model to understand the positions of elements within a sequence. Achieve this by associating each sample with a unique position index, denoted as $p_{n}=n$, where $n$ represents the sample's position in the sequence. To elaborate, let's consider a sequence of elements. Start by assigning index 0 to the first element, index 1 to the second, and so forth. This simple yet effective technique enables the model to grasp the relative positions of elements in the sequence. Importantly, this method remains reliable even when dealing with long sequences, extending as far as our vocabulary allows. By incorporating positional encodings, our model gains a deep understanding of the order and arrangement of elements, enhancing its performance in various sequence-related tasks.\n",
    "\n",
    "The position printed below incorporates the whole length of the vocabulary size.\n"
   ]
  },
  {
   "cell_type": "code",
   "execution_count": 38,
   "id": "dc9122a4-ee99-479a-858e-64c5e744f667",
   "metadata": {},
   "outputs": [
    {
     "name": "stdout",
     "output_type": "stream",
     "text": [
      "Word: <unk>, Position Index: 0.0\n",
      "Word: nlp, Position Index: 1.0\n",
      "Word: pytorch, Position Index: 2.0\n",
      "Word: analysis, Position Index: 3.0\n",
      "Word: entity, Position Index: 4.0\n",
      "Word: machine, Position Index: 5.0\n",
      "Word: named, Position Index: 6.0\n",
      "Word: sentiment, Position Index: 7.0\n",
      "Word: translation, Position Index: 8.0\n",
      "Word: with, Position Index: 9.0\n",
      "Word: ,, Position Index: 10.0\n",
      "Word: car, Position Index: 11.0\n",
      "Word: he, Position Index: 12.0\n",
      "Word: painted, Position Index: 13.0\n",
      "Word: red, Position Index: 14.0\n",
      "Word: the, Position Index: 15.0\n",
      "Word: basics, Position Index: 16.0\n",
      "Word: classification, Position Index: 17.0\n",
      "Word: for, Position Index: 18.0\n",
      "Word: introduction, Position Index: 19.0\n",
      "Word: of, Position Index: 20.0\n",
      "Word: recognition, Position Index: 21.0\n",
      "Word: techniques, Position Index: 22.0\n",
      "Word: text, Position Index: 23.0\n",
      "Word: to, Position Index: 24.0\n",
      "Word: using, Position Index: 25.0\n",
      "Word: vs, Position Index: 26.0\n"
     ]
    }
   ],
   "source": [
    "# Generate a range of position indices from 0 to the size of the vocabulary\n",
    "position = torch.arange(0, vocab_size, dtype=torch.float).unsqueeze(1)\n",
    "\n",
    "# Retrieve the list of words from the vocabulary object\n",
    "vocab_list = list(vocab.get_itos())\n",
    "\n",
    "# Iterate over the range of vocabulary size\n",
    "for idx in range(vocab_size):\n",
    "    word = vocab_list[idx]  # Get the word from the vocabulary list at the current index\n",
    "    pos = position[idx][0].item()  # Extract the numerical value of the position index from the tensor\n",
    "    print(f\"Word: {word}, Position Index: {pos}\")"
   ]
  },
  {
   "cell_type": "markdown",
   "id": "6da55338-3d55-4f98-a1d3-2e6decadf90d",
   "metadata": {},
   "source": [
    "In positional encodings, each dimension \\(d\\) within the embedding holds specific importance, denoted as $\\textbf{p}_{n,d}$. For example, if you have an embedding dimension of three, the positional encodings $\\textbf{p}_{n,d}$ ​are represented as $[\\text{ }p_{n,1},\\text{ }p_{n,2},\\text{ }p_{n,3}]$. These values correspond to a three-dimensional embedding for each token, capturing its position and unique characteristics within the sequence. By organizing positional information this way, the model gains a richer understanding of the relationship between tokens.\n"
   ]
  },
  {
   "cell_type": "code",
   "execution_count": 39,
   "id": "19425d7f-817d-4f94-85ae-79cc13e79dd0",
   "metadata": {},
   "outputs": [
    {
     "data": {
      "text/plain": [
       "tensor([[ 0.,  0.,  0.],\n",
       "        [ 1.,  1.,  1.],\n",
       "        [ 2.,  2.,  2.],\n",
       "        [ 3.,  3.,  3.],\n",
       "        [ 4.,  4.,  4.],\n",
       "        [ 5.,  5.,  5.],\n",
       "        [ 6.,  6.,  6.],\n",
       "        [ 7.,  7.,  7.],\n",
       "        [ 8.,  8.,  8.],\n",
       "        [ 9.,  9.,  9.],\n",
       "        [10., 10., 10.],\n",
       "        [11., 11., 11.],\n",
       "        [12., 12., 12.],\n",
       "        [13., 13., 13.],\n",
       "        [14., 14., 14.],\n",
       "        [15., 15., 15.],\n",
       "        [16., 16., 16.],\n",
       "        [17., 17., 17.],\n",
       "        [18., 18., 18.],\n",
       "        [19., 19., 19.],\n",
       "        [20., 20., 20.],\n",
       "        [21., 21., 21.],\n",
       "        [22., 22., 22.],\n",
       "        [23., 23., 23.],\n",
       "        [24., 24., 24.],\n",
       "        [25., 25., 25.],\n",
       "        [26., 26., 26.]])"
      ]
     },
     "execution_count": 39,
     "metadata": {},
     "output_type": "execute_result"
    }
   ],
   "source": [
    "# Initialize a matrix of zeros with dimensions [vocab_size, n_embd]\n",
    "# This will be used to hold the positional encodings for each word in the vocabulary\n",
    "pe = torch.zeros(vocab_size, n_embd)\n",
    "\n",
    "# Concatenate the position tensor three times along dimension 1 (columns)\n",
    "# This simplistic example is likely a placeholder for a more complex function of position that would be used in a real positional encoding\n",
    "pe = torch.cat((position, position, position), 1)\n",
    "\n",
    "# Display the positional encoding tensor\n",
    "# In an actual implementation, this would involve a more sophisticated method that reflects the position's impact on the embeddings\n",
    "pe"
   ]
  },
  {
   "cell_type": "markdown",
   "id": "bccb0c94-d90a-4e76-a4a9-eb79ded5e570",
   "metadata": {},
   "source": [
    "You only need positional encodings for each sequence of embeddings, to determine this. Next, count the number of embeddings in the sequence. Refer to the sentence 'he painted the car red he painted the red car' in my **`my_embdings`**.\n"
   ]
  },
  {
   "cell_type": "code",
   "execution_count": 40,
   "id": "e5062012-1761-466c-9b59-0d6a26fd4504",
   "metadata": {},
   "outputs": [
    {
     "data": {
      "text/plain": [
       "(5, 3)"
      ]
     },
     "execution_count": 40,
     "metadata": {},
     "output_type": "execute_result"
    }
   ],
   "source": [
    "# Obtain the shape of the embedded_x tensor which contains the embedded representations\n",
    "# 'samples' will hold the number of tokens/samples in the batch\n",
    "# 'dim' will hold the dimensionality of the embeddings\n",
    "samples, dim = embedded_x.shape\n",
    "\n",
    "# Print the tuple (samples, dim) to show the size of the batch and the embedding dimension\n",
    "samples, dim"
   ]
  },
  {
   "cell_type": "markdown",
   "id": "5ee153d8-6e87-41cc-b10a-3787205c9551",
   "metadata": {},
   "source": [
    "Add the positional encodings to the embeddings and plot the results; and observe that they are different.\n"
   ]
  },
  {
   "cell_type": "code",
   "execution_count": 41,
   "id": "31f7cf49-80f9-4a3d-8949-41d7b334c9a8",
   "metadata": {},
   "outputs": [],
   "source": [
    "# Select the appropriate positional encodings based on the number of samples and embedding dimensions\n",
    "# This slice of the positional encoding tensor 'pe' corresponds to the actual batch size and embedding size\n",
    "pe_slice = pe[0:samples, 0:n_embd]"
   ]
  },
  {
   "cell_type": "code",
   "execution_count": 42,
   "id": "266c474c-98ae-4371-a371-c5357ee873e5",
   "metadata": {},
   "outputs": [
    {
     "data": {
      "text/plain": [
       "tensor([[-0.1592,  1.4982, -0.2219],\n",
       "        [ 0.7984,  2.0514,  1.5718],\n",
       "        [ 2.0249,  1.5428,  0.4196],\n",
       "        [ 1.4604,  2.2969,  4.5283],\n",
       "        [ 1.8362,  2.1942,  4.1523]], grad_fn=<AddBackward0>)"
      ]
     },
     "execution_count": 42,
     "metadata": {},
     "output_type": "execute_result"
    }
   ],
   "source": [
    "# Add the positional encodings to the token embeddings\n",
    "# This step integrates the position information into the embeddings\n",
    "pos_embding = embedded_x + pe_slice\n",
    "\n",
    "# The result 'pos_embding' now contains the token embeddings adjusted with positional information\n",
    "# Display the adjusted embeddings tensor\n",
    "pos_embding"
   ]
  },
  {
   "cell_type": "code",
   "execution_count": 43,
   "id": "0f7a0ed5-63ee-4def-b3cf-a856c8c342b8",
   "metadata": {},
   "outputs": [
    {
     "data": {
      "image/png": "[encoded data removed]",
      "text/plain": [
       "<Figure size 640x480 with 1 Axes>"
      ]
     },
     "metadata": {},
     "output_type": "display_data"
    },
    {
     "data": {
      "image/png": "[encoded data removed]",
      "text/plain": [
       "<Figure size 640x480 with 1 Axes>"
      ]
     },
     "metadata": {},
     "output_type": "display_data"
    }
   ],
   "source": [
    "# Visualize the embeddings with positional encodings using the defined plot function\n",
    "# 'pos_embding.detach().numpy()' converts the embeddings tensor to a NumPy array and detaches it from the current computation graph\n",
    "# 'tokenizer(my_tokens)' tokenizes the sample sentence for labeling in the plot\n",
    "# 'vocab' is passed to associate tokens with their embeddings for plotting\n",
    "plot_embdings(pos_embding.detach().numpy(), tokenizer(my_tokens), vocab)\n",
    "plot_embdings(pos_embding.detach().numpy(),tokenizer(my_tokens),vocab)"
   ]
  },
  {
   "cell_type": "markdown",
   "id": "c015c9d9-4a91-4f8c-b93c-32f01bede936",
   "metadata": {},
   "source": [
    "When incorporating linear positional encodings into embeddings, a significant challenge arises: the embeddings for positions later in the sequence tend to become much larger. This issue becomes especially prominent with longer sequences. To illustrate, let's consider the word 'car' appearing at indices 3 and 9 within a sequence. The embedding for 'car' at position 9 is noticeably larger than the one at position 3. This difference becomes more pronounced as the sequence length increases.\n",
    "\n",
    "The problem here is that embeddings are intended to represent words or tokens in a consistent manner. Excessive differences in magnitude can lead to a divergence from the original embeddings, making it challenging for the model to interpret and process the sequence effectively. It's crucial to address this issue to maintain the integrity of the embeddings and ensure that the positional information enhances, rather than distorts, the overall representation of the words in the sequence.\n"
   ]
  },
  {
   "cell_type": "code",
   "execution_count": 44,
   "id": "0d4ae723-2b4c-4f0f-9619-cc97069f8efc",
   "metadata": {},
   "outputs": [
    {
     "data": {
      "text/plain": [
       "tensor([1.4604, 2.2969, 4.5283], grad_fn=<SelectBackward0>)"
      ]
     },
     "execution_count": 44,
     "metadata": {},
     "output_type": "execute_result"
    }
   ],
   "source": [
    "pos_embding[3]# add -3 to get original embedding"
   ]
  },
  {
   "cell_type": "code",
   "execution_count": 45,
   "id": "71b34d47-88ed-4de2-93dd-67c27ddcc527",
   "metadata": {},
   "outputs": [
    {
     "data": {
      "text/plain": [
       "tensor([1.8362, 2.1942, 4.1523], grad_fn=<SelectBackward0>)"
      ]
     },
     "execution_count": 45,
     "metadata": {},
     "output_type": "execute_result"
    }
   ],
   "source": [
    "pos_embding[-1]#add -9 original embedding"
   ]
  },
  {
   "cell_type": "markdown",
   "id": "550cf2d1-e12f-43f2-9e06-449c16526506",
   "metadata": {},
   "source": [
    "Address this magnitude issue through various approaches. First, employ a function that doesn't exhibit such significant amplification. Additionally, have the option to introduce different functions. For instance, when considering our word positional encodings, the magnitude of the positional encodings $\\textbf{p}_{n,d}$ can be represented as $[p_{n,1}, p_{n,2}, p_{n,3}]$, which, in this case, translates to $[0.1n, -0.1n, 0]$.\n",
    "\n",
    "In this modified scheme, the magnitudes of the first two dimensions $[p_{n,1}, p_{n,2}]$ increase linearly with the position $n$ but at a slower rate (0.1 times the position). The third dimension $[p_{n,3}]$ remains constant at 0. Adjusting these coefficients, can control the rate at which the magnitudes change, ensuring that the embeddings do not escalate significantly and providing a more balanced representation of positions within the sequence.\n"
   ]
  },
  {
   "cell_type": "code",
   "execution_count": 46,
   "id": "ec70d8e6-3add-4ad0-8613-f8d51940f741",
   "metadata": {},
   "outputs": [],
   "source": [
    "pe=torch.cat((0.1*position, -0.1*position, 0*position), 1)"
   ]
  },
  {
   "cell_type": "markdown",
   "id": "1a8c8e22-1c75-4b3f-a168-f19149e01959",
   "metadata": {},
   "source": [
    "Plot the positional encodings.\n"
   ]
  },
  {
   "cell_type": "code",
   "execution_count": 47,
   "id": "a4c7f5f9-0cb2-42b2-abe8-a02e630a4722",
   "metadata": {},
   "outputs": [
    {
     "data": {
      "image/png": "[encoded data removed]",
      "text/plain": [
       "<Figure size 640x480 with 1 Axes>"
      ]
     },
     "metadata": {},
     "output_type": "display_data"
    }
   ],
   "source": [
    "# Plot the first dimension of positional encodings for all positions in the sequence\n",
    "plt.plot(pe[:, 0].numpy(), label=\"Dimension 1\")\n",
    "\n",
    "# Plot the second dimension of positional encodings for all positions in the sequence\n",
    "plt.plot(pe[:, 1].numpy(), label=\"Dimension 2\")\n",
    "\n",
    "# Plot the third dimension of positional encodings for all positions in the sequence\n",
    "plt.plot(pe[:, 2].numpy(), label=\"Dimension 3\")\n",
    "\n",
    "# Label the x-axis as 'Sequence Number' to represent the position in the sequence\n",
    "plt.xlabel(\"Sequence Number\")\n",
    "\n",
    "# Add a legend to the plot to identify which line corresponds to which dimension of positional encoding\n",
    "plt.legend()\n",
    "\n",
    "# Display the plot on screen\n",
    "plt.show()"
   ]
  },
  {
   "cell_type": "markdown",
   "id": "01c12b65-c1c9-4119-8a39-f43892f78d09",
   "metadata": {},
   "source": [
    "\n",
    "Observe that the words are closer together, but employing a linear function still presents the same drawbacks. This means that eventually, the embeddings will keep on increasing linearly.\n"
   ]
  },
  {
   "cell_type": "code",
   "execution_count": 48,
   "id": "53a001b2-4d8b-4e55-821c-e8b2d4addb45",
   "metadata": {},
   "outputs": [
    {
     "data": {
      "image/png": "[encoded data removed]",
      "text/plain": [
       "<Figure size 640x480 with 1 Axes>"
      ]
     },
     "metadata": {},
     "output_type": "display_data"
    }
   ],
   "source": [
    "# After the positional encodings have been added, we need to detach the tensor from the computation graph\n",
    "# and convert it to a NumPy array for visualization\n",
    "# 'detach()' is necessary because 'embedded_x' requires gradients and we don't need them for plotting\n",
    "# 'numpy()' converts the PyTorch tensor to a NumPy array\n",
    "pos_embding_numpy = pos_embding.detach().numpy()\n",
    "\n",
    "# Tokenize the sample sentence to use as labels in the plot\n",
    "tokens = tokenizer(my_tokens)\n",
    "\n",
    "# Visualize the token embeddings with positional encodings\n",
    "# The 'plot_embdings' function presumably takes the NumPy array of embeddings, token labels, and a vocabulary\n",
    "# to plot the embeddings in a space where similar embeddings are closer together\n",
    "plot_embdings(pos_embding_numpy, tokens, vocab)"
   ]
  },
  {
   "cell_type": "markdown",
   "id": "21602cda-90ba-41ed-a7dc-8913556335bc",
   "metadata": {},
   "source": [
    "When analyze positional encodings, it might appear that the words are closer together, indicating an improvement. However, it's crucial to recognize that the use of a linear function still comes with its own set of limitations. Despite the visual impression of words being in closer proximity, linear positional encodings have inherent issues. One significant problem is the potential for amplifying magnitudes as positions progress, which can adversely affect the model's ability to capture subtle positional nuances effectively.\n",
    "\n",
    "To overcome these challenges, exploring alternative methods and functions for generating positional encodings is valuable. One promising approach involves leveraging periodic functions, such as sine and cosine functions. These functions possess a unique property called periodicity, meaning they repeat their values over regular intervals. This periodic nature prevents them from growing too rapidly as positions increase in the sequence.\n",
    "\n",
    "By incorporating sine and cosine functions into positional encodings, introduces a more context-aware and adaptive mechanism. These functions allow us to capture the sequential information without the risk of magnitudes escalating uncontrollably. As a result, the model can better discern the relative positions of words within the sequence, leading to more accurate and meaningful representations.\n"
   ]
  },
  {
   "cell_type": "code",
   "execution_count": 49,
   "id": "61dedfea-f09e-4730-9472-b550f2bf7a54",
   "metadata": {},
   "outputs": [
    {
     "data": {
      "image/png": "[encoded data removed]",
      "text/plain": [
       "<Figure size 640x480 with 1 Axes>"
      ]
     },
     "metadata": {},
     "output_type": "display_data"
    }
   ],
   "source": [
    "# Generate positional encodings using a sinusoidal function and concatenation\n",
    "# The first dimension is encoded with a sine function\n",
    "# The second and third dimensions are placeholders and are simply set to 1 (this is not typical in practice and likely serves as a simplified example)\n",
    "pe = torch.cat((torch.sin(2 * 3.14 * position / 6),  # Sinusoidal encoding for dimension 1\n",
    "                0 * position + 1,                     # Constant encoding (1) for dimension 2\n",
    "                0 * position + 1), axis=1)            # Constant encoding (1) for dimension 3\n",
    "\n",
    "# Add the sinusoidal positional encodings to the token embeddings\n",
    "# This step enriches the embeddings with information about the position of each token in the sequence\n",
    "pos_embding = embedded_x + pe[0:samples, :]\n",
    "\n",
    "# Prepare the positional embeddings for visualization\n",
    "# 'detach()' is used to stop tracking all operations on 'pos_embding'\n",
    "# 'numpy()' converts the tensor to a NumPy array suitable for plotting\n",
    "pos_embding_numpy = pos_embding.detach().numpy()\n",
    "\n",
    "# Tokenize the sample sentence to get the labels for the embedding plot\n",
    "tokens = tokenizer(my_tokens)\n",
    "\n",
    "# Visualize the embeddings using the plot function\n",
    "# It is assumed the function will plot these embeddings in a way that illustrates the effects of adding positional encodings\n",
    "plot_embdings(pos_embding_numpy, tokens, vocab)"
   ]
  },
  {
   "cell_type": "markdown",
   "id": "e36b1dbc-290f-4e77-9e54-dd3a8d6fadcc",
   "metadata": {},
   "source": [
    "The first dimension of **$pe$** follows a sine wave pattern, while the 2nd and 3rd dimensions have constant values. This is showcased in the graph below.\n"
   ]
  },
  {
   "cell_type": "code",
   "execution_count": null,
   "id": "5f2e2c14-ae88-4ce7-bfa7-81b163ea4944",
   "metadata": {},
   "outputs": [],
   "source": [
    "pe"
   ]
  },
  {
   "cell_type": "markdown",
   "id": "20d291fc-ce5b-4625-85ee-1bff60c3b2fd",
   "metadata": {},
   "source": [
    "In our exploration of word embeddings, we've noticed a fascinating pattern: words are generally positioned close enough in the embedding space to preserve their proximity, ensuring that they are contextually related while maintaining distinctiveness from one another. However, there's a significant exception that arises specifically with the word 'car.'\n",
    "\n",
    "This peculiar behavior can be attributed to the nature of the sine wave used in positional encoding. The sine wave is inherently periodic, meaning it repeats its pattern at regular intervals. This periodicity is visually illustrated in the accompanying image, where you can observe the sinusoidal curve repeating itself. As a result, the positional encoding for the word 'car' at different locations within the sequence remains the same.\n",
    "\n",
    "This periodic nature poses a challenge, especially for words like 'car,' which may appear multiple times in a sequence but carry different contextual meanings each time. Despite their varying contexts, the positional encoding for all occurrences of 'car' would be identical due to the repetitive pattern of the sine wave.\n"
   ]
  },
  {
   "cell_type": "code",
   "execution_count": 50,
   "id": "1d00412d-cc59-4a10-86d2-fee6fcaac09d",
   "metadata": {},
   "outputs": [
    {
     "data": {
      "image/png": "[encoded data removed]",
      "text/plain": [
       "<Figure size 640x480 with 1 Axes>"
      ]
     },
     "metadata": {},
     "output_type": "display_data"
    }
   ],
   "source": [
    "# Plot the positional encodings with different line styles and markers\n",
    "plt.plot(pe[:, 0].numpy(), label=\"Dimension 1\", linestyle='-')\n",
    "plt.plot(pe[:, 1].numpy(), label=\"Dimension 2\", linestyle='--')\n",
    "plt.plot(pe[:, 2].numpy(), label=\"Dimension 3\", linestyle=':')\n",
    "\n",
    "# Adjust the y-axis scale for better visibility\n",
    "plt.ylim([-1, 1.1])\n",
    "\n",
    "plt.xlabel(\"Sequence Number\")\n",
    "plt.legend()\n",
    "plt.show()"
   ]
  },
  {
   "cell_type": "markdown",
   "id": "74b60a2d-0f12-4b7e-aba9-db654f37815b",
   "metadata": {},
   "source": [
    "By incorporating sine and cosine functions with varying frequencies, encode sequences of differing lengths. As demonstrated here, it becomes evident that these encodings position elements in such a way that they maintain proximity while still preserving their distinctiveness from one another\n"
   ]
  },
  {
   "cell_type": "code",
   "execution_count": 51,
   "id": "fe194551-c406-4043-852f-ebdaca0dda3f",
   "metadata": {},
   "outputs": [
    {
     "data": {
      "image/png": "[encoded data removed]",
      "text/plain": [
       "<Figure size 640x480 with 1 Axes>"
      ]
     },
     "metadata": {},
     "output_type": "display_data"
    },
    {
     "data": {
      "image/png": "[encoded data removed]",
      "text/plain": [
       "<Figure size 640x480 with 1 Axes>"
      ]
     },
     "metadata": {},
     "output_type": "display_data"
    }
   ],
   "source": [
    "# Create positional encodings using sinusoidal functions\n",
    "# Concatenate cosine and sine functions for different dimensions to form the encoding\n",
    "pe = torch.cat((torch.cos(2 * 3.14 * position / 25),  # Cosine function for the first dimension\n",
    "                torch.sin(2 * 3.14 * position / 25),  # Sine function for the second dimension\n",
    "                torch.sin(2 * 3.14 * position / 5)), axis=1)  # Sine function with different frequency for the third dimension\n",
    "\n",
    "# Add the generated positional encodings to the token embeddings\n",
    "# This enriches the embeddings with positional information\n",
    "pos_embding = embedded_x + pe[0:samples, :]\n",
    "\n",
    "# Detach the embeddings from the computational graph and convert to NumPy for visualization\n",
    "pos_embding_numpy = pos_embding.detach().numpy()\n",
    "\n",
    "# Tokenize the input text to be used as labels in the plot\n",
    "tokens = tokenizer(my_tokens)\n",
    "\n",
    "# Visualize the embeddings with positional encodings\n",
    "plot_embdings(pos_embding_numpy, tokens, vocab)\n",
    "\n",
    "# Additionally, plot each dimension of the positional encodings to visualize their patterns\n",
    "plt.plot(pe[:, 0].numpy(), label=\"Dimension 1 - Cosine Wave\")\n",
    "plt.plot(pe[:, 1].numpy(), label=\"Dimension 2 - Sine Wave\")\n",
    "plt.plot(pe[:, 2].numpy(), label=\"Dimension 3 - Sine Wave\")\n",
    "\n",
    "# Add a legend in the upper left corner outside of the plot area\n",
    "plt.legend(loc='upper left', bbox_to_anchor=(1, 1))\n",
    "\n",
    "# Display the plot\n",
    "plt.show()"
   ]
  },
  {
   "cell_type": "markdown",
   "id": "08d60d6c-46da-43d0-aff3-6ce14cf08175",
   "metadata": {},
   "source": [
    "Overall, periodic functions provide a more expressive and adaptable means of encoding positional information in sequences, making them a preferred choice in modern sequence-to-sequence models like transformers. They offer improved capabilities for modeling both short-range and long-range dependencies, which are crucial for tasks in natural language processing and other domains.\n"
   ]
  },
  {
   "cell_type": "markdown",
   "id": "ed68f2b1-5cf7-40ca-97ff-d5d2613e5b8c",
   "metadata": {},
   "source": [
    "Now that you comprehend positional encoding, embedding and self attention, let's put all layers together to create a transformer model that receives a sequence and transfrom it for further processes.\n"
   ]
  },
  {
   "cell_type": "code",
   "execution_count": 52,
   "id": "a946006e-2c01-4520-a63e-7a7ff2764fe8",
   "metadata": {},
   "outputs": [],
   "source": [
    "class PositionalEncoding(nn.Module):\n",
    "    \"\"\"Positional encoding module injects some information about the relative or absolute position of the tokens in the sequence.\"\"\"\n",
    "    def __init__(self, n_embd, vocab_size, dropout=0.1):\n",
    "        super(PositionalEncoding, self).__init__()\n",
    "        # Initialize a buffer for the positional encodings (not a parameter, so it's not updated during training)\n",
    "        pe = torch.zeros(vocab_size, n_embd)\n",
    "        position = torch.arange(0, vocab_size, dtype=torch.float).unsqueeze(1)\n",
    "        # Calculate the positional encodings once in log space\n",
    "        pe = torch.cat((torch.cos(2 * 3.14 * position / 25), torch.sin(2 * 3.14 * position / 25), torch.sin(2 * 3.14 * position / 5)), 1)\n",
    "        self.register_buffer('pe', pe)\n",
    "\n",
    "    def forward(self, x):\n",
    "        # Add positional encoding to each embedding vector assuming x is (seq_len, batch_size, n_embd)\n",
    "        # Note: 'pe' is a registered buffer and does not require gradients\n",
    "        pos = x + self.pe[:x.size(0), :]\n",
    "        return pos\n",
    "\n",
    "class Head(nn.Module):\n",
    "    \"\"\"Self attention head.\"\"\"\n",
    "    def __init__(self, n_embd, vocab_size):\n",
    "        super().__init__()\n",
    "        # An embedding layer that converts input data (token indices) into dense vectors of fixed size\n",
    "        self.embedding = nn.Embedding(vocab_size, n_embd)\n",
    "        # The positional encoding layer\n",
    "        self.pos_encoder = PositionalEncoding(n_embd, vocab_size)\n",
    "        # Layers to transform the position-encoded embeddings into queries, keys, and values\n",
    "        self.key = nn.Linear(n_embd, n_embd, bias=False)\n",
    "        self.query = nn.Linear(n_embd, n_embd, bias=False)\n",
    "        self.value = nn.Linear(n_embd, n_embd, bias=False)\n",
    "\n",
    "    def forward(self, x):\n",
    "        # Pass the input through the embedding layer to get fixed size dense embeddings\n",
    "        embedded_x = self.embedding(x)\n",
    "        # Pass the embeddings through the positional encoder\n",
    "        p_encoded_x = self.pos_encoder(embedded_x)\n",
    "        # Generate queries, keys, and values for the attention\n",
    "        k = self.key(p_encoded_x)\n",
    "        q = self.query(p_encoded_x)\n",
    "        v = self.value(p_encoded_x)\n",
    "        # Calculate the attention scores as the dot product of queries and keys\n",
    "        w = q @ k.transpose(-2, -1) * k.shape[-1] ** -0.5  # Query * Keys / normalization\n",
    "        # Apply the softmax function to the attention scores to get probabilities\n",
    "        w = F.softmax(w, dim=-1)\n",
    "        # Multiply the attention weights with the values to get the output\n",
    "        out = w @ v\n",
    "        return out"
   ]
  },
  {
   "cell_type": "markdown",
   "id": "1ed180f8-89f8-44be-b31d-7ad2d4ff9e98",
   "metadata": {},
   "source": [
    "In the code above, the `Head` class is an implementation of a self-attention mechanism. It first converts each input token into a dense vector using an embedding layer, and then adds positional information to the vectors using a positional encoding layer. This is done to give the model some information about the position of each token in the input sequence.\n",
    "\n",
    "Next, the `Head` class creates three different linear projections (key, query, and value) of the positionally-encoded input data using the `nn.Linear` layers defined in the `__init__` method. These projections are created by multiplying the input data with three different weight matrices.\n",
    "\n",
    "The attention scores (also known as attention weights) are then computed by taking the dot product of the query and key projections, and then scaling the result by the square root of the key dimension. This is done to stabilize the gradients during training. The softmax function is then applied to these scores to ensure they sum up to 1.\n",
    "\n",
    "Finally, the output of the attention head is computed by taking a weighted sum of the value projection, where the weights are the attention scores. This output is a weighted sum of the input data, where the weights are determined by the relationships between all pairs of input data points.\n"
   ]
  },
  {
   "cell_type": "code",
   "execution_count": 53,
   "id": "ed2db31b-f228-48a2-aa1c-3c716bc23680",
   "metadata": {},
   "outputs": [
    {
     "name": "stdout",
     "output_type": "stream",
     "text": [
      "Output shape: torch.Size([5, 3])\n",
      "Output: tensor([[ 0.3784,  0.3974,  0.0418],\n",
      "        [-0.0130,  0.2897, -0.0542],\n",
      "        [ 0.0175,  0.2976, -0.0516],\n",
      "        [ 0.1632,  0.3339, -0.0120],\n",
      "        [ 0.2237,  0.3532,  0.0050]], grad_fn=<MmBackward0>)\n"
     ]
    }
   ],
   "source": [
    "# Instantiate the Head class with embedding dimension and vocabulary size as parameters\n",
    "transformer = Head(n_embd, vocab_size)\n",
    "\n",
    "# Pass the input data through the transformer model to obtain the output\n",
    "# This process includes embedding the input, adding positional encodings, and applying self-attention\n",
    "out = transformer(input_data)\n",
    "\n",
    "# Print the shape of the output tensor\n",
    "# The shape will provide insight into how the data has been transformed through the model\n",
    "print(\"Output shape:\", out.shape)\n",
    "\n",
    "# Display the output tensor itself\n",
    "# This output represents the transformed data after applying the embedding, positional encoding, and self-attention mechanisms\n",
    "print(\"Output:\", out)"
   ]
  },
  {
   "cell_type": "markdown",
   "id": "b6afa4cc-918a-4115-aa20-3141d798bcc2",
   "metadata": {},
   "source": [
    "<a name=\"torchtr\"></a>\n",
    "# Transformers in PyTorch\n",
    "In this section, you will learn how to create transfomer models using `nn.torch` library.\n",
    "\n",
    "This code block creates an instance of the Transformer model from the nn (neural network) module in PyTorch. The nhead parameter specifies the number of heads in the multi-head attention mechanism, which is a crucial component of the Transformer architecture. In this case, it is set to 16.\n",
    "\n",
    "The num_encoder_layers parameter determines the number of encoder layers in the Transformer model. Here, it is set to 12.\n"
   ]
  },
  {
   "cell_type": "code",
   "execution_count": 54,
   "id": "c4b6c59f-a669-4f4e-b286-2a4d71b1587e",
   "metadata": {},
   "outputs": [],
   "source": [
    "transformer_model = nn.Transformer(nhead=16, num_encoder_layers=12)"
   ]
  },
  {
   "cell_type": "markdown",
   "id": "c927056d-13e0-4e26-95c6-87a1aa22d5ed",
   "metadata": {},
   "source": [
    "These two lines create random tensors to represent the source and target sequences for the Transformer model.\n",
    "\n",
    "`src` represents 10 source sequences, each with a length of 32 and a feature dimension of 512.\n",
    "`tgt` represents 20 target sequences, each with a length of 32 and a feature dimension of 512.\n",
    "In the context of sequence-to-sequence tasks, the source sequences are the input data (e.g., sentences in one language), and the target sequences are the desired output (e.g., the corresponding sentences in another language).\n"
   ]
  },
  {
   "cell_type": "code",
   "execution_count": 55,
   "id": "a2d57dab-0e72-4809-8813-ab7b905abc62",
   "metadata": {},
   "outputs": [],
   "source": [
    "src = torch.rand((10, 32, 512))\n",
    "tgt = torch.rand((20, 32, 512))"
   ]
  },
  {
   "cell_type": "markdown",
   "id": "8e46e3ab-f2f0-4e69-8b66-1b68007a4fe1",
   "metadata": {},
   "source": [
    "Then, pass the source and target tensors through the Transformer model. The out variable will contain the output of the Transformer model, which should have the same shape as the tgt tensor ((20, 32, 512)). This output can be further processed or used for downstream tasks, such as calculating a loss function for training or generating text for inference.\n"
   ]
  },
  {
   "cell_type": "code",
   "execution_count": 56,
   "id": "20b98fbf-8f4f-494d-be9d-7d237b402c8f",
   "metadata": {},
   "outputs": [],
   "source": [
    "out = transformer_model(src, tgt)"
   ]
  },
  {
   "cell_type": "markdown",
   "id": "e29974f8-ae9c-4d3d-b904-20676bedbe28",
   "metadata": {},
   "source": [
    "## MultiHead attention\n",
    "\n",
    "`nn.MultiheadAttention` is a module in PyTorch that implements the multi-head self-attention mechanism, a key component of the Transformer architecture. This attention mechanism enables the model to focus on different parts of the input sequence simultaneously, capturing various contextual dependencies and improving the model's ability to process complex natural language patterns.\n",
    "\n",
    "The `nn.MultiheadAttention` module has three main inputs: `query`, `key`, and `value` as illustrated below. \n",
    "<p style=\"text-align:center\">\n",
    "    <img src=\"https://cf-courses-data.s3.us.cloud-object-storage.appdomain.cloud/IBMSkillsNetwork-AI0201EN-Coursera/MultiHeadAttention.png\" width=\"300\" alt=\"MultiHead\"/>\n",
    "</p>\n",
    "\n",
    "The multi-head attention mechanism works by first splitting the `query`, `key`, and `value` inputs into multiple \"heads,\" each with its own set of learnable weights. This process allows the model to learn different attention patterns in parallel. \n",
    "\n",
    "The outputs from all heads are concatenated and passed through a linear layer, known as the output projection, to combine the information learned by each head. This final output represents the contextually enriched sequence that can be used in subsequent layers of the Transformer model.\n"
   ]
  },
  {
   "cell_type": "code",
   "execution_count": 57,
   "id": "5012a1f4-f3e7-45b1-9e7d-98b0594c553a",
   "metadata": {},
   "outputs": [
    {
     "name": "stdout",
     "output_type": "stream",
     "text": [
      "should be zero: 0\n"
     ]
    }
   ],
   "source": [
    "\n",
    "# Embedding dimension\n",
    "embed_dim =4\n",
    "# Number of attention heads\n",
    "num_heads = 2\n",
    "print(\"should be zero:\",embed_dim %num_heads)\n",
    "# Initialize MultiheadAttention\n",
    "multihead_attn = nn.MultiheadAttention(embed_dim=embed_dim, num_heads=num_heads,batch_first=False)"
   ]
  },
  {
   "cell_type": "code",
   "execution_count": 59,
   "id": "869d926b-6fd2-4f0c-87d0-bb03ce363fad",
   "metadata": {},
   "outputs": [
    {
     "name": "stdout",
     "output_type": "stream",
     "text": [
      "Attention Output Shape: torch.Size([10, 5, 4])\n"
     ]
    }
   ],
   "source": [
    "seq_length = 10 # Sequence length\n",
    "batch_size = 5 # Batch size\n",
    "query = torch.rand((seq_length, batch_size, embed_dim))\n",
    "key = torch.rand((seq_length, batch_size, embed_dim))\n",
    "value = torch.rand((seq_length, batch_size, embed_dim))\n",
    "# Perform multi-head attention\n",
    "attn_output, _= multihead_attn(query, key, value)\n",
    "print(\"Attention Output Shape:\", attn_output.shape)"
   ]
  },
  {
   "cell_type": "markdown",
   "id": "00533c28-bcf8-445b-8241-f609bce91f54",
   "metadata": {},
   "source": [
    "## TransformerEncoderLayer and TransformerEncoder\n",
    "\n",
    "The `TransformerEncoderLayer` and `TransformerEncoder` are essential components of the Transformer architecture in PyTorch. These components work together to create a multi-layer, attention-based neural network.\n",
    "\n",
    "### TransformerEncoderLayer:\n",
    "This is a single encoding layer in the Transformer architecture, consisting of two primary sub-layers as shown below: the Multi-head Self-Attention layer and the Feed-Forward Network (FFN). Each of these sub-layers is followed by a residual connection and layer normalization.\n",
    "<p style=\"text-align:center\">\n",
    "    <img src=\"https://cf-courses-data.s3.us.cloud-object-storage.appdomain.cloud/IBMSkillsNetwork-AI0201EN-Coursera/TrLayer.png\" width=\"200\" alt=\"TrLayer\"/>\n",
    "</p>\n"
   ]
  },
  {
   "cell_type": "markdown",
   "id": "5727c6e3-6c57-4043-a9fe-723d32a5d103",
   "metadata": {},
   "source": [
    "### TransformerEncoder:\n",
    "The TransformerEncoder is a stack of multiple `TransformerEncoderLayer` instances. The encoder consists of N identical layers. N can be adjusted based on the desired complexity of the model.\n",
    "\n",
    "The encoder takes an input sequence, applies positional encoding, and passes it through each of the TransformerEncoderLayers sequentially. This allows the model to learn rich, hierarchical representations of the input sequence, capturing both local and long-range dependencies.\n",
    "\n",
    "TransformerEncoder accepts the following parameters:\n",
    "- `src` (required): The sequence to the encoder.\n",
    "\n",
    "- `mask` (Optional): The mask parameter is used to restrict the attention mechanism from considering certain positions in the input sequence. It is a binary tensor with the same shape as the input sequence. A value of 1 indicates that attention is allowed, while a value of 0 indicates that attention should be disregarded. This mask is particularly useful when working with triangular attention masks, where each position in the sequence can only attend to previous positions.\n",
    "\n",
    "- `src_key_padding_mask` (Optional): The src_key_padding_mask parameter is used to specify which positions in the input sequence correspond to padding tokens. It is a binary tensor with shape (batch_size, sequence_length). A value of 1 indicates that the corresponding position contains a valid token, while a value of 0 indicates that the position contains a padding token. By providing this mask, the attention mechanism can ignore padding tokens and focus only on the meaningful parts of the input sequence. This parameter is particularly useful when dealing with variable-length sequences that have been padded to a fixed length.\n"
   ]
  },
  {
   "cell_type": "code",
   "execution_count": 60,
   "id": "a7405207-d88d-4045-a432-a6e4ef0f4d30",
   "metadata": {},
   "outputs": [],
   "source": [
    "# Embedding dimension\n",
    "embed_dim = 4\n",
    "# Number of attention h\n",
    "num_heads = 2\n",
    "# Checking if the embedding dimension is divisible by the number of heads, print(\"should be zero\", embed_dim % num_h\n",
    "# Number of encoder layers\n",
    "num_layers = 6\n",
    "# Initialize the encoder layer with specified embedding dimension and number of heads.\n",
    "encoder_layer = nn.TransformerEncoderLayer(d_model=embed_dim, nhead=num_heads)\n",
    "# Build the transformer encoder by stacking the encoder layer 6 times.\n",
    "transformer_encoder = nn.TransformerEncoder(encoder_layer, num_layers=num_layers)"
   ]
  },
  {
   "cell_type": "markdown",
   "id": "cadb4263-489e-4c4b-8b2d-7ad0886f1a1f",
   "metadata": {},
   "source": [
    "Let's now test it with a random input:\n"
   ]
  },
  {
   "cell_type": "code",
   "execution_count": 61,
   "id": "2349a321-eabe-427f-8946-1f02c829f151",
   "metadata": {},
   "outputs": [
    {
     "name": "stdout",
     "output_type": "stream",
     "text": [
      "Encoded Tensor Shape: torch.Size([10, 5, 4])\n"
     ]
    }
   ],
   "source": [
    "# Define sequence length as 10 and batch size as 5 for the input data.\n",
    "seq_length = 10 # Sequence length\n",
    "batch_size = 5 # Batch size\n",
    "# Generate random input tensor to simulate input embeddings for the transformer encoder.\n",
    "x = torch.rand((seq_length, batch_size, embed_dim))\n",
    "# Apply the transformer encoder to the input\n",
    "encoded = transformer_encoder(x)\n",
    "# Output the shape of the encoded tensor to verify the transformation.\n",
    "print(\"Encoded Tensor Shape:\", encoded.shape)"
   ]
  },
  {
   "cell_type": "markdown",
   "id": "3bb912d2-176c-417d-8498-c0ae26393b4a",
   "metadata": {},
   "source": [
    "## Exercise\n",
    "In this exercise, you will create a multi-hear transformer and use it to encode a an input vector. To achieve this, you will leverage nn.TransformerEncoderLayer and nn.TransformerEncoder. \n",
    "\n",
    ">Please note that the `embedding size` should be divisible by the `number of attention heads`.\n",
    "\n",
    "1. **Create a transformer encoder with the following parameters:**\n",
    "   - `embedding size` = 240\n",
    "   -  `number of layers` = 12\n",
    "   -  `number of attention heads` = 12\n",
    "\n",
    "2. **Create a random input tensor of length 20 and batch size of 1**\n",
    "\n",
    "3. **Pass the input tensor to model and print the shape of its output**\n"
   ]
  },
  {
   "cell_type": "code",
   "execution_count": 62,
   "id": "1bbf26db-9602-4cb6-a24f-448cdbfb5bf3",
   "metadata": {},
   "outputs": [],
   "source": [
    "emb_size = 240\n",
    "num_layer = 12\n",
    "num_head = 12\n",
    "\n",
    "transformer_layer = nn.TransformerEncoderLayer(d_model=emb_size, nhead=num_head)\n",
    "\n",
    "transformer_encoder = nn.TransformerEncoder(encoder_layer=transformer_layer, num_layers=num_layer)\n",
    "\n"
   ]
  },
  {
   "cell_type": "code",
   "execution_count": 64,
   "metadata": {},
   "outputs": [
    {
     "name": "stdout",
     "output_type": "stream",
     "text": [
      "Encoded Tensor Shape: torch.Size([20, 1, 240])\n"
     ]
    }
   ],
   "source": [
    "seq_length = 20\n",
    "batch_size = 1\n",
    "\n",
    "x = torch.rand((seq_length, batch_size, emb_size))\n",
    "\n",
    "encoded = transformer_encoder(x)\n",
    "\n",
    "\n",
    "print(\"Encoded Tensor Shape:\", encoded.shape)"
   ]
  },
  {
   "cell_type": "markdown",
   "id": "3f1ae532-5b40-4521-8b49-4dba6d1c8850",
   "metadata": {},
   "source": [
    "# Congratulations! You've achieved a thorough understanding of the inner workings of transformers.\n",
    "\n"
   ]
  },
  {
   "cell_type": "markdown",
   "id": "febdad81-ba6a-4430-a090-87ea1601eec7",
   "metadata": {},
   "source": [
    "## Authors\n",
    "\n",
    "[Joseph Santarcangelo](https://author.skills.network/instructors/joseph_santarcangelo) has a Ph.D. in Electrical Engineering, his research focused on using machine learning, signal processing, and computer vision to determine how videos impact human cognition. Joseph has been working for IBM since he completed his PhD.\n",
    "\n",
    "[Fateme Akbari](https://www.linkedin.com/in/fatemeakbari/) is a Ph.D. candidate in Information Systems at McMaster University with demonstrated research experience in Machine Learning and NLP.\n",
    "\n",
    "## Contributor\n",
    "\n",
    "[Ashutosh Sagar](https://www.linkedin.com/in/ashutoshsagar/) is completing his MS in CS from Dalhousie University. He has previous experience working with Natural Language Processing and as a Data Scientist.\n",
    "\n",
    "[Wojciech \"Victor\" Fulmyk](https://www.linkedin.com/in/wfulmyk)  Wojciech \"Victor\" Fulmyk is a Data Scientist at IBM, and a PhD Candidate in economics at the University of Calgary.\n"
   ]
  },
  {
   "cell_type": "markdown",
   "id": "306b2c3b-714d-4314-9746-6d777b5e7947",
   "metadata": {},
   "source": [
    "## References\n",
    "[LLMs from dummies](https://github.com/pcingola/llms_from_dummies/blob/main/notebooks/LLMs_from_dummies_Part_1.ipynb) GitHub\n"
   ]
  },
  {
   "cell_type": "markdown",
   "id": "c05d5ba2-6af4-4e9c-95ec-7f8a726d2f22",
   "metadata": {},
   "source": [
    "© Copyright IBM Corporation. All rights reserved.\n"
   ]
  }
 ],
 "metadata": {
  "kernelspec": {
   "display_name": "pytorch_env",
   "language": "python",
   "name": "python3"
  },
  "language_info": {
   "codemirror_mode": {
    "name": "ipython",
    "version": 3
   },
   "file_extension": ".py",
   "mimetype": "text/x-python",
   "name": "python",
   "nbconvert_exporter": "python",
   "pygments_lexer": "ipython3",
   "version": "3.10.16"
  },
  "prev_pub_hash": "4def3ba5cde61eaebaab3454049b492158e60840dee0350f63f5db4f340ce9b1"
 },
 "nbformat": 4,
 "nbformat_minor": 4
}
