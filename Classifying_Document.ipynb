{
 "cells": [
  {
   "cell_type": "markdown",
   "id": "f4b49f37-fe0c-4ce9-a56c-91d1782017b6",
   "metadata": {},
   "source": [
    "<p style=\"text-align:center\">\n",
    "    <a href=\"https://skills.network\" target=\"_blank\">\n",
    "    <img src=\"https://cf-courses-data.s3.us.cloud-object-storage.appdomain.cloud/assets/logos/SN_web_lightmode.png\" width=\"200\" alt=\"Skills Network Logo\">\n",
    "    </a>\n",
    "</p>\n"
   ]
  },
  {
   "cell_type": "markdown",
   "id": "3c68ce1e-d766-45bb-bc04-7c666ee9a03e",
   "metadata": {},
   "source": [
    "# **Classifying Document**\n",
    "\n",
    "Estimated time needed: **60** minutes\n",
    "\n",
    "Imagine working at a prestigious newspaper or magazine company that boasts an extensive archive of documents dating back through the annals of time. Amid this treasure trove of information, a monumental task lies ahead: organizing these historical documents into their relevant topic sections. This strategic curation not only promises to enhance the user experience by delivering more streamlined content but also presents an opportunity to breathe new life into invaluable insights from the past through a modern lens. However, the sheer volume and scope of this undertaking call for a sophisticated solution. \n",
    "\n",
    "![Documents Overload](https://cf-courses-data.s3.us.cloud-object-storage.appdomain.cloud/IBM-GPXX0Y15EN/docs.png)\n",
    "\n",
    "The implementation of an automated machine learning system makes it very efficient. Such a system, equipped with advanced natural language processing and machine learning capabilities, could sift through the vast archives, categorizing articles into their respective topics with remarkable precision. As a result, readers would seamlessly access a wealth of knowledge tailored to their interests, while the editorial team gains newfound agility in content management.\n",
    "\n",
    "In this project, you will embark on the exciting task of classifying news articles for a content search engine. The goal is to build a model that can automatically categorize news articles into different topics or classes, enabling the search engine to deliver relevant content to users efficiently. To achieve this, you will leverage the powerful torchtext library, which simplifies the process of creating a dataset for text classification analysis.\n",
    "\n",
    "With torchtext, you'll have the flexibility to access and preprocess raw news data effortlessly. The library enables you to convert text strings into torch.Tensors, which are essential for training machine learning models. By using torchtext's convenient functionalities, you can set up an efficient data processing pipeline that prepares your text data for classification.\n",
    "\n",
    "Throughout this tutorial, you'll demonstrate how to effectively shuffle and iterate through the processed data using torch.utils.data.DataLoader. This DataLoader simplifies the data handling process, allowing you to focus on building and training your text classification model effectively.\n"
   ]
  },
  {
   "cell_type": "markdown",
   "id": "56eb862c-ecf7-401b-896e-342d93ff4ea3",
   "metadata": {},
   "source": [
    "---\n"
   ]
  },
  {
   "cell_type": "markdown",
   "id": "5d5ca160-c22b-41dc-8119-6814262e9c38",
   "metadata": {},
   "source": [
    "# __Table of Contents__\n",
    "\n",
    "<ol>\n",
    "    <li><a href=\"#Objectives\">Objectives</a></li>\n",
    "    <li>\n",
    "        <a href=\"#Setup\">Setup</a>\n",
    "        <ol>\n",
    "            <li><a href=\"#Installing-required-libraries\">Installing required libraries</a></li>\n",
    "            <li><a href=\"#Importing-required-libraries\">Importing required libraries</a></li>\n",
    "            <li><a href=\"#Defining-helper-functions\">Defining helper functions</a></li>\n",
    "        </ol>\n",
    "    </li>\n",
    "    <li>\n",
    "        <a href=\"#Text-classification\">Text classification</a></li>\n",
    "        <ol>\n",
    "            <li><a href=\"#Import-bank-data-set\">Import bank dataset</a></li>\n",
    "            <li><a href=\"#Data-set\">Dataset</a></li>\n",
    "            <li><a href=\"#Data-loader\">Data loader</a></li>\n",
    "            <li><a href=\"#Neural-network\">Neural network</a></li>\n",
    "        </ol>\n",
    "    <li><a href=\"#Train-the-model\">Train The model</a></li>\n",
    "    <li><a href=\"#Exercises\">Exercises</a></li>\n",
    "</ol>\n"
   ]
  },
  {
   "cell_type": "markdown",
   "id": "0ee8fa64-84a2-4d73-af99-8cc35c6c2ad6",
   "metadata": {},
   "source": [
    "# Objectives\n",
    "\n",
    "After completing this lab, you will be able to:\n",
    "\n",
    "- Work with datasets and understand tokenizer, embedding bag technique and vocabulary.\n",
    "- Explore embeddings in PyTorch and understand token indices.\n",
    "- Perform text classification using data loader and apply it on a neural network model.\n",
    "- Train the text classification model on a news dataset.\n",
    "- Engage in various exercises to solidify your understanding.\n"
   ]
  },
  {
   "cell_type": "markdown",
   "id": "95e4839b-320a-48c1-8de4-ff6086d32843",
   "metadata": {},
   "source": [
    "# Setup\n"
   ]
  },
  {
   "cell_type": "markdown",
   "id": "2e4374cf-3499-47da-8f00-51d6f4a59d30",
   "metadata": {},
   "source": [
    "## Install the Libraries\n",
    "\n",
    "<h2 style=\"color:red;\">After installing the libraries below please RESTART THE KERNEL and run all cells.</h2>\n",
    "\n"
   ]
  },
  {
   "cell_type": "markdown",
   "id": "33639c1e-fe73-4318-9b98-b8db252d2dd0",
   "metadata": {},
   "source": [
    "For this lab, you will use the following libraries:\n"
   ]
  },
  {
   "cell_type": "code",
   "execution_count": null,
   "id": "4e8484e7-b808-4370-996f-802c9f03bb12",
   "metadata": {},
   "outputs": [],
   "source": [
    "# All Libraries required for this lab are listed below. The libraries pre-installed on Skills Network Labs are commented.\n",
    "!pip install -qy pandas==1.3.4 numpy==1.21.4 seaborn==0.9.0 matplotlib==3.5.0 scikit-learn==0.20.1\n",
    "# - Update a specific package\n",
    "!pip install pmdarima -U\n",
    "# - Update a package to specific version\n",
    "!pip install --upgrade pmdarima==2.0.2\n",
    "# Note: If your environment doesn't support \"!pip install\", use \"!mamba install\""
   ]
  },
  {
   "cell_type": "markdown",
   "id": "9fec2641-bab7-429f-a248-2c5b52ceb310",
   "metadata": {},
   "source": [
    "The following required libraries are __not__ pre-installed in the Skills Network Labs environment. __You will need to run the following cell__ to install them:\n"
   ]
  },
  {
   "cell_type": "code",
   "execution_count": null,
   "id": "0749ff5b-681f-4a82-857f-042639eb7bd9",
   "metadata": {},
   "outputs": [],
   "source": [
    "!pip install -Uqq portalocker>=2.0.0\n",
    "!pip install -qq torchtext\n",
    "!pip install -qq torchdata\n",
    "!pip install -Uqq plotly\n",
    "!pip install -qq dash"
   ]
  },
  {
   "cell_type": "markdown",
   "id": "2b757258-067e-48d6-9cde-05f7d005c120",
   "metadata": {},
   "source": [
    "### Importing required libraries\n"
   ]
  },
  {
   "cell_type": "code",
   "execution_count": 1,
   "id": "e5baf5c5-94ff-460a-b43c-a2486ceaff31",
   "metadata": {},
   "outputs": [],
   "source": [
    "from tqdm import tqdm\n",
    "import numpy as np\n",
    "import pandas as pd\n",
    "from itertools import accumulate\n",
    "import matplotlib.pyplot as plt\n",
    "from torchtext.data.utils import get_tokenizer\n",
    "\n",
    "import torch\n",
    "import torch.nn as nn\n",
    "\n",
    "from torch.utils.data import DataLoader\n",
    "import numpy as np\n",
    "from torchtext.datasets import AG_NEWS\n",
    "from IPython.display import Markdown as md\n",
    "from tqdm import tqdm\n",
    "\n",
    "from torchtext.vocab import build_vocab_from_iterator\n",
    "from torchtext.datasets import AG_NEWS\n",
    "from torch.utils.data.dataset import random_split\n",
    "from torchtext.data.functional import to_map_style_dataset\n",
    "from sklearn.manifold import TSNE\n",
    "import plotly.graph_objs as go\n",
    "from sklearn.model_selection import train_test_split\n",
    "\n",
    "from torchtext.data.utils import get_tokenizer\n",
    "\n",
    "# You can also use this section to suppress warnings generated by your code:\n",
    "def warn(*args, **kwargs):\n",
    "    pass\n",
    "import warnings\n",
    "warnings.warn = warn\n",
    "warnings.filterwarnings('ignore')"
   ]
  },
  {
   "cell_type": "markdown",
   "id": "964e3031-d61f-431f-b1e9-1601d4a433a3",
   "metadata": {},
   "source": [
    "### Defining helper functions\n",
    "\n",
    "_Use this section to define any helper functions to help the notebook's code readability:_\n"
   ]
  },
  {
   "cell_type": "code",
   "execution_count": 2,
   "id": "df57c62c-6aab-48b0-8dd7-b88af900cf1b",
   "metadata": {},
   "outputs": [],
   "source": [
    "def plot(COST,ACC):\n",
    "    fig, ax1 = plt.subplots()\n",
    "    color = 'tab:red'\n",
    "    ax1.plot(COST, color=color)\n",
    "    ax1.set_xlabel('epoch', color=color)\n",
    "    ax1.set_ylabel('total loss', color=color)\n",
    "    ax1.tick_params(axis='y', color=color)\n",
    "    \n",
    "    ax2 = ax1.twinx()  \n",
    "    color = 'tab:blue'\n",
    "    ax2.set_ylabel('accuracy', color=color)  # you already handled the x-label with ax1\n",
    "    ax2.plot(ACC, color=color)\n",
    "    ax2.tick_params(axis='y', color=color)\n",
    "    fig.tight_layout()  # otherwise the right y-label is slightly clipped\n",
    "    \n",
    "    plt.show()"
   ]
  },
  {
   "cell_type": "markdown",
   "id": "690996cc-f7d1-45f1-9afd-f080bdac891d",
   "metadata": {},
   "source": [
    "---\n"
   ]
  },
  {
   "cell_type": "markdown",
   "id": "a1291b8a-9f1e-4b34-8fa5-5ae25641e4a3",
   "metadata": {},
   "source": [
    "The gif below gives you an overview.\n",
    "\n",
    "![nlp](https://cf-courses-data.s3.us.cloud-object-storage.appdomain.cloud/IBM-GPXX0Y15EN/NLP.gif)\n"
   ]
  },
  {
   "cell_type": "markdown",
   "id": "137f11f3-f855-4074-b830-c1f74115f97c",
   "metadata": {},
   "source": [
    "---\n"
   ]
  },
  {
   "cell_type": "markdown",
   "id": "3c4b98a1-a59f-4b5d-bcf8-2d62ebed4cd1",
   "metadata": {},
   "source": [
    "## Text classification\n",
    "Let's build a text classification model using PyTorch and torchtext to classify news articles into one of the four categories: World, Sports, Business, and Sci/Tech.\n"
   ]
  },
  {
   "cell_type": "markdown",
   "id": "af4aa650-efe4-494d-86b0-ca4dc931de4c",
   "metadata": {},
   "source": [
    "### Import bank dataset\n",
    "\n",
    "Load the AG_NEWS dataset for the train split and split it into input text and corresponding labels:\n"
   ]
  },
  {
   "cell_type": "code",
   "execution_count": 3,
   "id": "b0b44319-c5ad-4d02-86a2-74ed2aa7b757",
   "metadata": {},
   "outputs": [],
   "source": [
    "train_iter= iter(AG_NEWS(split=\"train\"))"
   ]
  },
  {
   "cell_type": "markdown",
   "id": "5dab593d-ba4e-470c-a5e3-b0fe033b586a",
   "metadata": {},
   "source": [
    "The AG_NEWS dataset in torchtext does not support direct indexing like a list or tuple. It is not a random access dataset but rather an iterable dataset that needs to be used with an iterator. This approach is more effective for text data.\n"
   ]
  },
  {
   "cell_type": "code",
   "execution_count": 73,
   "id": "eb5439f3-7bf4-4f40-b037-47549a4f06dc",
   "metadata": {},
   "outputs": [
    {
     "name": "stdout",
     "output_type": "stream",
     "text": [
      "3 IT Myth 5: Most IT projects fail Do most IT projects fail? Some point to the number of giant consultancies such as IBM Global Services, Capgemini, and Sapient, who feed off bad experiences encountered by enterprises. Sapient is a company founded on the realization that IT projects are not successful, says Sapient CTO Ben Gaucherin.\n"
     ]
    }
   ],
   "source": [
    "y,text= next((train_iter))\n",
    "print(y,text)"
   ]
  },
  {
   "cell_type": "markdown",
   "id": "03435495-2d37-4f5d-9eff-ef019df982a9",
   "metadata": {},
   "source": [
    "Find the label of the sample.\n"
   ]
  },
  {
   "cell_type": "code",
   "execution_count": 7,
   "id": "0379c3ee-7a61-4152-9093-165be115f038",
   "metadata": {},
   "outputs": [
    {
     "data": {
      "text/plain": [
       "'Business'"
      ]
     },
     "execution_count": 7,
     "metadata": {},
     "output_type": "execute_result"
    }
   ],
   "source": [
    "ag_news_label = {1: \"World\", 2: \"Sports\", 3: \"Business\", 4: \"Sci/Tec\"}\n",
    "ag_news_label[y]"
   ]
  },
  {
   "cell_type": "markdown",
   "id": "3a187459-cc00-464a-92ec-364dbdf240ea",
   "metadata": {},
   "source": [
    "Also, use the dataset to find all the classes.\n"
   ]
  },
  {
   "cell_type": "code",
   "execution_count": 74,
   "id": "303828cf-99f2-414d-8d97-4a79b2bf0852",
   "metadata": {},
   "outputs": [
    {
     "data": {
      "text/plain": [
       "4"
      ]
     },
     "execution_count": 74,
     "metadata": {},
     "output_type": "execute_result"
    }
   ],
   "source": [
    "num_class = len(set([label for (label, text) in train_iter ]))\n",
    "num_class "
   ]
  },
  {
   "cell_type": "markdown",
   "id": "4582886f-bd1a-4b10-acf5-be748e372d27",
   "metadata": {},
   "source": [
    "Create the tokens as explained in previous lab and also build the vocabulary as before, just using the AG dataset to obtain token indices\n"
   ]
  },
  {
   "cell_type": "code",
   "execution_count": 75,
   "id": "607acc9a-b55c-4918-ba74-8b97f421a3d7",
   "metadata": {},
   "outputs": [
    {
     "name": "stdout",
     "output_type": "stream",
     "text": [
      "Vocabulary size: 95811\n",
      "Sample tokens: ['zyprexa', 'zwiki', 'zurab', 'zuhua', 'zubrin', 'zovko', 'zotinca', 'zos', 'zoology', 'zoner']\n"
     ]
    }
   ],
   "source": [
    "# Reinitialize train_iter\n",
    "train_iter = AG_NEWS(split=\"train\")\n",
    "\n",
    "# Define tokenizer and yield_tokens\n",
    "tokenizer = get_tokenizer(\"basic_english\")\n",
    "\n",
    "def yield_tokens(data_iter):\n",
    "    for _, text in data_iter:\n",
    "        yield tokenizer(text.lower())  # Lowercase conversion for consistency\n",
    "\n",
    "# Build vocabulary\n",
    "vocab = build_vocab_from_iterator(yield_tokens(train_iter), specials=[\"<unk>\"])\n",
    "vocab.set_default_index(vocab[\"<unk>\"])\n",
    "\n",
    "# Print the vocabulary size and sample tokens\n",
    "print(f\"Vocabulary size: {len(vocab)}\")\n",
    "print(f\"Sample tokens: {list(vocab.get_stoi().keys())[:10]}\")\n"
   ]
  },
  {
   "cell_type": "markdown",
   "id": "f8ee6260-7fbe-4859-82f2-3b02b564754d",
   "metadata": {},
   "source": [
    "Here are some token indices:\n"
   ]
  },
  {
   "cell_type": "code",
   "execution_count": 76,
   "id": "be38ac05-044a-4275-8327-916c06fb85b7",
   "metadata": {},
   "outputs": [
    {
     "data": {
      "text/plain": [
       "[2120, 12544]"
      ]
     },
     "execution_count": 76,
     "metadata": {},
     "output_type": "execute_result"
    }
   ],
   "source": [
    "vocab([\"age\",\"hello\"])"
   ]
  },
  {
   "cell_type": "markdown",
   "id": "72f08bcf-0022-4fc5-9618-258ecd249902",
   "metadata": {},
   "source": [
    "### Dataset \n"
   ]
  },
  {
   "cell_type": "markdown",
   "id": "f823e14c-85d5-49fe-80b6-1d443597339d",
   "metadata": {},
   "source": [
    "You can convert the dataset into map-style datasets and then perform a random split to create separate training and validation datasets. The training dataset will contain 95% of the samples, while the validation dataset will contain the remaining 5%. These datasets can be used for training and evaluating a machine learning model for text classification on the AG_NEWS dataset.\n"
   ]
  },
  {
   "cell_type": "code",
   "execution_count": 77,
   "id": "e363c22a-5e9a-4461-8b05-3aa31f4ef971",
   "metadata": {},
   "outputs": [],
   "source": [
    "# Split the dataset into training and testing iterators.\n",
    "train_iter, test_iter = AG_NEWS()\n",
    "\n",
    "# Convert the training and testing iterators to map-style datasets.\n",
    "train_dataset = to_map_style_dataset(train_iter)\n",
    "test_dataset = to_map_style_dataset(test_iter)\n",
    "\n",
    "# Determine the number of samples to be used for training and validation (5% for validation).\n",
    "num_train = int(len(train_dataset) * 0.95)\n",
    "\n",
    "# Randomly split the training dataset into training and validation datasets using `random_split`.\n",
    "# The training dataset will contain 95% of the samples, and the validation dataset will contain the remaining 5%.\n",
    "split_train_, split_valid_ = random_split(train_dataset, [num_train, len(train_dataset) - num_train])"
   ]
  },
  {
   "cell_type": "markdown",
   "id": "77b7c951-1ab0-40b9-a2bb-22930d4d63f5",
   "metadata": {},
   "source": [
    "The code checks if a CUDA-compatible GPU is available in the system using PyTorch, a popular deep learning framework. If a GPU is available, it assigns the device variable to \"cuda\" (which stands for CUDA, the parallel computing platform and application programming interface model developed by NVIDIA). If a GPU is not available, it assigns the device variable to \"cpu\" (which means the code will run on the CPU instead).\n"
   ]
  },
  {
   "cell_type": "code",
   "execution_count": 78,
   "id": "aa6f109d-3138-4358-b93c-7d27a5aa0d04",
   "metadata": {},
   "outputs": [
    {
     "data": {
      "text/plain": [
       "device(type='cpu')"
      ]
     },
     "execution_count": 78,
     "metadata": {},
     "output_type": "execute_result"
    }
   ],
   "source": [
    "device = torch.device(\"cuda\" if torch.cuda.is_available() else \"cpu\")\n",
    "device"
   ]
  },
  {
   "cell_type": "markdown",
   "id": "bb1964a0-1b15-401d-a30c-1b261ca142fe",
   "metadata": {},
   "source": [
    "### Data loader\n"
   ]
  },
  {
   "cell_type": "markdown",
   "id": "55baf7b5-1b90-4568-af5d-ffd505b94662",
   "metadata": {},
   "source": [
    "Prepare the text processing pipeline with the tokenizer and vocabulary. The text and label pipelines will be used to process the raw data strings from the dataset iterators. \n",
    "\n",
    "The function **```text_pipeline```** will tokenize the input text, and **```vocab```** will then be applied to get the token indices. \n",
    "The **```label_pipeline```** will ensure that the labels start at zero.\n"
   ]
  },
  {
   "cell_type": "code",
   "execution_count": 79,
   "id": "eda354f6-924a-407f-89d2-9aa3ae7bd751",
   "metadata": {},
   "outputs": [],
   "source": [
    "def text_pipeline(x):\n",
    "  return vocab(tokenizer(x))\n",
    "\n",
    "def label_pipeline(x):\n",
    "   return int(x) - 1"
   ]
  },
  {
   "cell_type": "markdown",
   "id": "4144b540-e2e3-4181-aaaa-39f8a966a0e2",
   "metadata": {},
   "source": [
    "In PyTorch, the **`collate_fn`** function is used in conjunction with data loaders to customize the way batches are created from individual samples. The provided code defines a `collate_batch` function in PyTorch, which is used with data loaders to customize batch creation from individual samples. It processes a batch of data, including labels and text sequences. It applies the `label_pipeline` and `text_pipeline` functions to preprocess the labels and texts, respectively. The processed data is then converted into PyTorch tensors and returned as a tuple containing the label tensor, text tensor, and offsets tensor representing the starting positions of each text sequence in the combined tensor. The function also ensures that the returned tensors are moved to the specified device (e.g., GPU) for efficient computation.\n"
   ]
  },
  {
   "cell_type": "code",
   "execution_count": 80,
   "id": "98f5e65a-cb06-4a2e-a36f-d87594bd89c5",
   "metadata": {},
   "outputs": [],
   "source": [
    "def collate_batch(batch):\n",
    "    label_list, text_list, offsets = [], [], [0]\n",
    "    for _label, _text in batch:\n",
    "        label_list.append(label_pipeline(_label))\n",
    "        processed_text = torch.tensor(text_pipeline(_text), dtype=torch.int64)\n",
    "        text_list.append(processed_text)\n",
    "        offsets.append(processed_text.size(0))\n",
    "    label_list = torch.tensor(label_list, dtype=torch.int64)\n",
    "    offsets = torch.tensor(offsets[:-1]).cumsum(dim=0)\n",
    "    text_list = torch.cat(text_list)\n",
    "    return label_list.to(device), text_list.to(device), offsets.to(device)"
   ]
  },
  {
   "cell_type": "markdown",
   "id": "b7143684-dfea-4420-b655-f192bcaa8e13",
   "metadata": {},
   "source": [
    "Convert the dataset objects to a data loader by applying the collate function.\n"
   ]
  },
  {
   "cell_type": "code",
   "execution_count": 81,
   "id": "965a52c8-8e16-47da-90d8-05b53f698fc3",
   "metadata": {},
   "outputs": [],
   "source": [
    "BATCH_SIZE = 64\n",
    "\n",
    "train_dataloader = DataLoader(\n",
    "    split_train_, batch_size=BATCH_SIZE, shuffle=True, collate_fn=collate_batch\n",
    ")\n",
    "valid_dataloader = DataLoader(\n",
    "    split_valid_, batch_size=BATCH_SIZE, shuffle=True, collate_fn=collate_batch\n",
    ")\n",
    "test_dataloader = DataLoader(\n",
    "    test_dataset, batch_size=BATCH_SIZE, shuffle=True, collate_fn=collate_batch\n",
    ")"
   ]
  },
  {
   "cell_type": "markdown",
   "id": "cb26eef1-1027-42c6-be7c-b27d5dc5d802",
   "metadata": {},
   "source": [
    "You can observe the output sequence when you have the label, text, and offsets for each batch.\n"
   ]
  },
  {
   "cell_type": "code",
   "execution_count": 82,
   "id": "b8e44c9d-1a88-4458-9e4a-c09b73d84e1e",
   "metadata": {},
   "outputs": [
    {
     "data": {
      "text/plain": [
       "(tensor([1, 3, 2, 0, 0, 0, 0, 1, 2, 3, 0, 2, 3, 0, 2, 3, 1, 1, 0, 1, 2, 3, 3, 2,\n",
       "         0, 3, 2, 3, 3, 0, 3, 0, 2, 0, 3, 3, 0, 3, 2, 3, 1, 2, 3, 1, 0, 1, 3, 1,\n",
       "         3, 1, 1, 3, 1, 0, 1, 2, 0, 2, 0, 2, 3, 0, 1, 3]),\n",
       " tensor([15616,    93,  2009,  ..., 11236, 20430,     1]),\n",
       " tensor([   0,   42,  100,  146,  185,  224,  262,  322,  362,  409,  457,  492,\n",
       "          538,  579,  630,  672,  709,  758,  795,  849,  891,  938, 1026, 1078,\n",
       "         1120, 1178, 1206, 1260, 1298, 1334, 1383, 1420, 1459, 1503, 1565, 1610,\n",
       "         1657, 1698, 1736, 1771, 1796, 1868, 1903, 1926, 1973, 2028, 2070, 2107,\n",
       "         2154, 2198, 2241, 2296, 2317, 2357, 2386, 2430, 2480, 2524, 2568, 2606,\n",
       "         2643, 2686, 2706, 2756]))"
      ]
     },
     "execution_count": 82,
     "metadata": {},
     "output_type": "execute_result"
    }
   ],
   "source": [
    "label, text, offsets=next(iter(valid_dataloader ))\n",
    "label, text, offsets"
   ]
  },
  {
   "cell_type": "markdown",
   "id": "5cd561b8-ca9e-47b4-8464-0ca4030426c6",
   "metadata": {},
   "source": [
    "### Neural network\n"
   ]
  },
  {
   "cell_type": "markdown",
   "id": "ba490314-ed29-4e69-a8b2-3bb9a380f355",
   "metadata": {},
   "source": [
    "You have created a neural network for a text classification model using an `EmbeddingBag` layer, followed by a softmax output layer. Additionally, you have initialized the model using a specific method.\n"
   ]
  },
  {
   "cell_type": "code",
   "execution_count": 83,
   "id": "ae971c1a-00e2-45bf-8494-cd80322affa2",
   "metadata": {},
   "outputs": [],
   "source": [
    "from torch import nn\n",
    "\n",
    "class TextClassificationModel(nn.Module):\n",
    "    def __init__(self, vocab_size, embed_dim, num_class):\n",
    "        super(TextClassificationModel, self).__init__()\n",
    "        self.embedding = nn.EmbeddingBag(vocab_size, embed_dim, sparse=False)\n",
    "        self.fc = nn.Linear(embed_dim, num_class)\n",
    "        self.init_weights()\n",
    "\n",
    "    def init_weights(self):\n",
    "        initrange = 0.5\n",
    "        self.embedding.weight.data.uniform_(-initrange, initrange)\n",
    "        self.fc.weight.data.uniform_(-initrange, initrange)\n",
    "        self.fc.bias.data.zero_()\n",
    "\n",
    "    def forward(self, text, offsets):\n",
    "        embedded = self.embedding(text, offsets)\n",
    "        return self.fc(embedded)"
   ]
  },
  {
   "cell_type": "markdown",
   "id": "feecb659-54ef-412c-917c-a26b3591f0fc",
   "metadata": {},
   "source": [
    "You have created the model, and the embedding dimension size is a free parameter.\n"
   ]
  },
  {
   "cell_type": "code",
   "execution_count": 84,
   "id": "1250e77c-33f6-48de-8217-09a0436cc795",
   "metadata": {},
   "outputs": [],
   "source": [
    "emsize=64"
   ]
  },
  {
   "cell_type": "markdown",
   "id": "91ce6f38-efc6-4261-a2d2-9b558f9c9528",
   "metadata": {},
   "source": [
    "You need the vocabulary size to determine the number of embeddings.\n"
   ]
  },
  {
   "cell_type": "code",
   "execution_count": 85,
   "id": "1769fded-3ed6-4436-b009-8c2d277efb1b",
   "metadata": {},
   "outputs": [
    {
     "data": {
      "text/plain": [
       "95811"
      ]
     },
     "execution_count": 85,
     "metadata": {},
     "output_type": "execute_result"
    }
   ],
   "source": [
    "vocab_size=len(vocab)\n",
    "vocab_size"
   ]
  },
  {
   "cell_type": "markdown",
   "id": "37fed85b-835f-485c-932a-4e19aab90b49",
   "metadata": {},
   "source": [
    "You have also determined the number of classes for the output layer.\n"
   ]
  },
  {
   "cell_type": "code",
   "execution_count": 86,
   "id": "187ef670-3138-4e25-88ec-3e2a257a0234",
   "metadata": {},
   "outputs": [
    {
     "data": {
      "text/plain": [
       "4"
      ]
     },
     "execution_count": 86,
     "metadata": {},
     "output_type": "execute_result"
    }
   ],
   "source": [
    "num_class "
   ]
  },
  {
   "cell_type": "markdown",
   "id": "03f913c7-9109-42c6-a206-167ad7f02e73",
   "metadata": {},
   "source": [
    "Creating the model:\n"
   ]
  },
  {
   "cell_type": "code",
   "execution_count": 87,
   "id": "56aac2c6-e434-4352-be80-4faca5163bdd",
   "metadata": {},
   "outputs": [
    {
     "data": {
      "text/plain": [
       "TextClassificationModel(\n",
       "  (embedding): EmbeddingBag(95811, 64, mode='mean')\n",
       "  (fc): Linear(in_features=64, out_features=4, bias=True)\n",
       ")"
      ]
     },
     "execution_count": 87,
     "metadata": {},
     "output_type": "execute_result"
    }
   ],
   "source": [
    "model = TextClassificationModel(vocab_size, emsize, num_class).to(device)\n",
    "model"
   ]
  },
  {
   "cell_type": "markdown",
   "id": "b10d5438-361c-4b92-b244-f8a405ad1284",
   "metadata": {},
   "source": [
    "The code line `predicted_label=model(text, offsets)` is used to obtain predicted labels from a machine learning model for a given input text and its corresponding offsets. The `model` is the machine learning model being used for text classification or similar tasks.\n"
   ]
  },
  {
   "cell_type": "code",
   "execution_count": 88,
   "id": "ade920a6-3344-4526-a592-91f62e36334f",
   "metadata": {},
   "outputs": [],
   "source": [
    "predicted_label=model(text, offsets)"
   ]
  },
  {
   "cell_type": "markdown",
   "id": "fde58dfc-9a62-41d3-910a-5c4e2c49d315",
   "metadata": {},
   "source": [
    "Now, verify the output shape of your model. In this case, the model is trained with a mini-batch size of 64 samples. The output layer of the model produces four logits for each neuron, corresponding to the four classes in the classification task. You can also create a function to find the accuracy given a dataset.\n"
   ]
  },
  {
   "cell_type": "code",
   "execution_count": 89,
   "id": "19dfa322-6def-47a1-9608-5eb60f3f583a",
   "metadata": {},
   "outputs": [
    {
     "data": {
      "text/plain": [
       "torch.Size([64, 4])"
      ]
     },
     "execution_count": 89,
     "metadata": {},
     "output_type": "execute_result"
    }
   ],
   "source": [
    "predicted_label.shape"
   ]
  },
  {
   "cell_type": "markdown",
   "id": "3339e88e-7cc4-47e4-8a59-b3899d933065",
   "metadata": {},
   "source": [
    "Function **`predict`** takes in a text and a text pipeline, which preprocesses the text for machine learning. It uses a pre-trained model to predict the label of the text for text classification on the AG_NEWS dataset. The function returns the predicted label as a result.\n"
   ]
  },
  {
   "cell_type": "code",
   "execution_count": 90,
   "id": "0b2d5c75-8d32-4981-ad14-094fe7ebebb3",
   "metadata": {},
   "outputs": [],
   "source": [
    "def predict(text, text_pipeline):\n",
    "    with torch.no_grad():\n",
    "        text = torch.tensor(text_pipeline(text))\n",
    "        output = model(text, torch.tensor([0]))\n",
    "        return ag_news_label[output.argmax(1).item() + 1]"
   ]
  },
  {
   "cell_type": "code",
   "execution_count": 91,
   "id": "275e80ef-f408-441f-a727-b73d7576b40a",
   "metadata": {},
   "outputs": [
    {
     "data": {
      "text/plain": [
       "'Sports'"
      ]
     },
     "execution_count": 91,
     "metadata": {},
     "output_type": "execute_result"
    }
   ],
   "source": [
    "predict(\"I like sports\",text_pipeline )"
   ]
  },
  {
   "cell_type": "markdown",
   "id": "988e1b68-ddbb-42a4-9208-66838d67b0cf",
   "metadata": {},
   "source": [
    "Create a function to evaluate the model's accuracy on a dataset.\n"
   ]
  },
  {
   "cell_type": "code",
   "execution_count": 92,
   "id": "290b551b-e3a3-4748-b285-3eac9f0cf27f",
   "metadata": {},
   "outputs": [],
   "source": [
    "def evaluate(dataloader):\n",
    "    model.eval()\n",
    "    total_acc, total_count= 0, 0\n",
    "\n",
    "    with torch.no_grad():\n",
    "        for idx, (label, text, offsets) in enumerate(dataloader):\n",
    "            predicted_label = model(text, offsets)\n",
    "\n",
    "            total_acc += (predicted_label.argmax(1) == label).sum().item()\n",
    "            total_count += label.size(0)\n",
    "    return total_acc / total_count"
   ]
  },
  {
   "cell_type": "markdown",
   "id": "59a25a94-a2c2-412f-930a-f61f9a1de381",
   "metadata": {},
   "source": [
    "The model was evaluated, and it was found that its performance is no better than average. This outcome is expected, considering that the model has not undergone any training yet.\n"
   ]
  },
  {
   "cell_type": "code",
   "execution_count": 93,
   "id": "0d45b47f-f412-4107-b074-655fd1ac224b",
   "metadata": {},
   "outputs": [
    {
     "data": {
      "text/plain": [
       "0.23921052631578948"
      ]
     },
     "execution_count": 93,
     "metadata": {},
     "output_type": "execute_result"
    }
   ],
   "source": [
    "evaluate(test_dataloader)"
   ]
  },
  {
   "cell_type": "markdown",
   "id": "81d60e2f-68ec-48a6-a37f-56c70426731b",
   "metadata": {},
   "source": [
    "Let's train the model.\n"
   ]
  },
  {
   "cell_type": "markdown",
   "id": "6327e96c-ff23-4df6-b629-1dace2555724",
   "metadata": {},
   "source": [
    "---\n"
   ]
  },
  {
   "cell_type": "markdown",
   "id": "51e919f8-6f64-40e5-a62e-1f224f2e807f",
   "metadata": {},
   "source": [
    "## Train the model\n",
    "\n",
    "Set the learning rate (LR) to 0.1, which determines the step size at which the optimizer updates the model's parameters during training. The CrossEntropyLoss criterion is used to calculate the loss between the model's predicted outputs and the ground truth labels. This loss function is commonly employed for multi-class classification tasks.\n",
    "\n",
    "The chosen optimizer is Stochastic Gradient Descent (SGD), which optimizes the model's parameters based on the computed gradients with respect to the loss function. The SGD optimizer uses the specified learning rate to control the size of the weight updates.\n",
    "\n",
    "Additionally, a learning rate scheduler is defined using StepLR. This scheduler adjusts the learning rate during training, reducing it by a factor (gamma) of 0.1 after every epoch (step) to improve convergence and fine-tune the model's performance. These components together form the essential setup for training a neural network using the specified learning rate, loss criterion, optimizer, and learning rate scheduler.\n"
   ]
  },
  {
   "cell_type": "code",
   "execution_count": 94,
   "id": "28ac8a2b-fe73-4af2-9434-626d371f392b",
   "metadata": {},
   "outputs": [],
   "source": [
    "LR=0.1\n",
    "\n",
    "criterion = torch.nn.CrossEntropyLoss()\n",
    "optimizer = torch.optim.SGD(model.parameters(), lr=LR)\n",
    "scheduler = torch.optim.lr_scheduler.StepLR(optimizer, 1.0, gamma=0.1)"
   ]
  },
  {
   "cell_type": "markdown",
   "id": "987efa2e-0145-4a43-ad5a-106e57ff7342",
   "metadata": {},
   "source": [
    "Training the model, which should take about 20 minutes.\n"
   ]
  },
  {
   "cell_type": "code",
   "execution_count": 95,
   "id": "155be486-38f2-4d90-a4ae-88f71e5bf67c",
   "metadata": {},
   "outputs": [
    {
     "name": "stderr",
     "output_type": "stream",
     "text": [
      "100%|██████████| 10/10 [01:36<00:00,  9.69s/it]\n"
     ]
    }
   ],
   "source": [
    "EPOCHS = 10\n",
    "cum_loss_list=[]\n",
    "acc_epoch=[]\n",
    "acc_old=0\n",
    "\n",
    "for epoch in tqdm(range(1, EPOCHS + 1)):\n",
    "    model.train()\n",
    "    cum_loss=0\n",
    "    for idx, (label, text, offsets) in enumerate(train_dataloader):\n",
    "        optimizer.zero_grad()\n",
    "        predicted_label = model(text, offsets)\n",
    "        loss = criterion(predicted_label, label)\n",
    "        loss.backward()\n",
    "        torch.nn.utils.clip_grad_norm_(model.parameters(), 0.1)\n",
    "        optimizer.step()\n",
    "        cum_loss+=loss.item()\n",
    "\n",
    "    cum_loss_list.append(cum_loss)\n",
    "    accu_val = evaluate(valid_dataloader)\n",
    "    acc_epoch.append(accu_val)\n",
    "\n",
    "    if accu_val > acc_old:\n",
    "      acc_old= accu_val\n",
    "      torch.save(model.state_dict(), 'my_model.pth')"
   ]
  },
  {
   "cell_type": "markdown",
   "id": "366cbe48-4539-4705-875d-8c34408f2c76",
   "metadata": {},
   "source": [
    "You can plot the cost and accuracy for each epoch. You'll see that with just ten epochs, you achieve an accuracy of over 80% on the validation data. You can increase the number of epochs to observe further results.\n"
   ]
  },
  {
   "cell_type": "code",
   "execution_count": 96,
   "id": "fb19a35b-7e60-4f20-801d-0367a5ed0781",
   "metadata": {},
   "outputs": [
    {
     "data": {
      "image/png": "[encoded data removed]",
      "text/plain": [
       "<Figure size 640x480 with 2 Axes>"
      ]
     },
     "metadata": {},
     "output_type": "display_data"
    }
   ],
   "source": [
    "plot(cum_loss_list,acc_epoch)"
   ]
  },
  {
   "cell_type": "markdown",
   "id": "42e33a90-bc73-48af-a57a-c25c6f7799b0",
   "metadata": {},
   "source": [
    "You can evaluate the results on the test data and achieve over 80%.\n"
   ]
  },
  {
   "cell_type": "code",
   "execution_count": 97,
   "id": "2957a7d9-1386-4cc0-85ba-cb7b540f79be",
   "metadata": {},
   "outputs": [
    {
     "data": {
      "text/plain": [
       "0.8165789473684211"
      ]
     },
     "execution_count": 97,
     "metadata": {},
     "output_type": "execute_result"
    }
   ],
   "source": [
    "evaluate(test_dataloader)"
   ]
  },
  {
   "cell_type": "markdown",
   "id": "bb116300-4064-47d0-b61e-b18f07c02d17",
   "metadata": {},
   "source": [
    "This code snippet provides a summary for generating a 3D t-SNE visualization of embeddings using Plotly. It demonstrates how words that are similar to each other are positioned closer together.\n"
   ]
  },
  {
   "cell_type": "code",
   "execution_count": null,
   "id": "be344958-4268-461d-819e-60377150dda5",
   "metadata": {},
   "outputs": [],
   "source": [
    "# Get the first batch from the validation data\n",
    "batch = next(iter(valid_dataloader))\n",
    "\n",
    "# Extract the text and offsets from the batch\n",
    "label, text, offsets = batch\n",
    "\n",
    "# Send the data to the device (GPU if available)\n",
    "text = text.to(device)\n",
    "offsets = offsets.to(device)\n",
    "\n",
    "# Get the embeddings bag output for the batch\n",
    "embedded = model.embedding(text, offsets)\n",
    "\n",
    "# Convert the embeddings tensor to a numpy array\n",
    "embeddings_numpy = embedded.detach().cpu().numpy()\n",
    "\n",
    "# Perform t-SNE on the embeddings to reduce their dimensionality to 3D.\n",
    "X_embedded_3d = TSNE(n_components=3).fit_transform(embeddings_numpy)\n",
    "\n",
    "# Create a 3D scatter plot using Plotly\n",
    "trace = go.Scatter3d(\n",
    "    x=X_embedded_3d[:, 0],\n",
    "    y=X_embedded_3d[:, 1],\n",
    "    z=X_embedded_3d[:, 2],\n",
    "    mode='markers',\n",
    "    marker=dict(\n",
    "        size=5,\n",
    "        color=label.numpy(),  # Use label information for color\n",
    "        colorscale='Viridis',  # Choose a colorscale\n",
    "        opacity=0.8\n",
    "    )\n",
    ")\n",
    "\n",
    "layout = go.Layout(title=\"3D t-SNE Visualization of Embeddings\",\n",
    "                   scene=dict(xaxis_title='Dimension 1',\n",
    "                              yaxis_title='Dimension 2',\n",
    "                              zaxis_title='Dimension 3'))\n",
    "\n",
    "fig = go.Figure(data=[trace], layout=layout)\n",
    "fig.show()"
   ]
  },
  {
   "cell_type": "markdown",
   "id": "26de1f94-5e2f-4925-9e1a-92f97d1eb07e",
   "metadata": {},
   "source": [
    "You can make a prediction on the following article using the function **`predict`**.\n"
   ]
  },
  {
   "cell_type": "code",
   "execution_count": 100,
   "id": "d00b247d-682d-4c99-a26f-114ebc3e58db",
   "metadata": {},
   "outputs": [],
   "source": [
    "article=\"\"\"Canada navigated a stiff test against the Republic of Ireland on a rain soaked evening in Perth, coming from behind to claim a vital 2-1 victory at the Women’s World Cup.\n",
    "Katie McCabe opened the scoring with an incredible Olimpico goal – scoring straight from a corner kick – as her corner flew straight over the despairing Canada goalkeeper Kailen Sheridan at Perth Rectangular Stadium in Australia.\n",
    "Just when Ireland thought it had safely navigated itself to half time with a lead, Megan Connolly failed to get a clean connection on a clearance with the resulting contact squirming into her own net to level the score.\n",
    "Minutes into the second half, Adriana Leon completed the turnaround for the Olympic champion, slotting home from the edge of the area to seal the three points.\"\"\""
   ]
  },
  {
   "cell_type": "markdown",
   "id": "5ce37953-6c4f-4159-88a7-fd1b71ffa15c",
   "metadata": {},
   "source": [
    "This markdown content generates a styled box with light gray background and padding. It contains an `<h3>` header displaying the content of the `article` variable, and an `<h4>` header indicating the predicted category of the news article which is provided by the `result` variable. The placeholders `{article}` and `{result}` will be dynamically replaced with actual values when this markdown is rendered.\n"
   ]
  },
  {
   "cell_type": "code",
   "execution_count": 104,
   "id": "dceb0661-b9e9-4810-9326-ae79317adf3a",
   "metadata": {},
   "outputs": [
    {
     "data": {
      "text/markdown": [
       "\n",
       "<div padding: 10px;\">\n",
       "    <h3>Canada navigated a stiff test against the Republic of Ireland on a rain soaked evening in Perth, coming from behind to claim a vital 2-1 victory at the Women’s World Cup.\n",
       "Katie McCabe opened the scoring with an incredible Olimpico goal – scoring straight from a corner kick – as her corner flew straight over the despairing Canada goalkeeper Kailen Sheridan at Perth Rectangular Stadium in Australia.\n",
       "Just when Ireland thought it had safely navigated itself to half time with a lead, Megan Connolly failed to get a clean connection on a clearance with the resulting contact squirming into her own net to level the score.\n",
       "Minutes into the second half, Adriana Leon completed the turnaround for the Olympic champion, slotting home from the edge of the area to seal the three points.</h3>\n",
       "    <h4>The category of the news article: Sports</h4>\n",
       "</div>\n"
      ],
      "text/plain": [
       "<IPython.core.display.Markdown object>"
      ]
     },
     "execution_count": 104,
     "metadata": {},
     "output_type": "execute_result"
    }
   ],
   "source": [
    "result = predict(article, text_pipeline)\n",
    "\n",
    "markdown_content = f'''\n",
    "<div padding: 10px;\">\n",
    "    <h3>{article}</h3>\n",
    "    <h4>The category of the news article: {result}</h4>\n",
    "</div>\n",
    "'''\n",
    "\n",
    "md(markdown_content)"
   ]
  },
  {
   "cell_type": "markdown",
   "id": "598d809c-03f5-4d62-8c85-8b5db96dae04",
   "metadata": {},
   "source": [
    "Looks good!\n"
   ]
  },
  {
   "cell_type": "markdown",
   "id": "f7b09081-8d68-4ee1-a5ae-d8d628a9d679",
   "metadata": {},
   "source": [
    "# Exercises\n"
   ]
  },
  {
   "cell_type": "markdown",
   "id": "128abb15-7c41-428c-8298-78e0267b98db",
   "metadata": {},
   "source": [
    "### Exercise 1 - Load the pre-trained model (path = 'my_model.pth').\n"
   ]
  },
  {
   "cell_type": "code",
   "execution_count": 102,
   "id": "9243d075-7ca7-480b-a5e2-e7b6f7f35b51",
   "metadata": {},
   "outputs": [
    {
     "data": {
      "text/plain": [
       "TextClassificationModel(\n",
       "  (embedding): EmbeddingBag(95811, 64, mode='mean')\n",
       "  (fc): Linear(in_features=64, out_features=4, bias=True)\n",
       ")"
      ]
     },
     "execution_count": 102,
     "metadata": {},
     "output_type": "execute_result"
    }
   ],
   "source": [
    "model.load_state_dict(torch.load('my_model.pth'))\n",
    "model.eval()"
   ]
  },
  {
   "cell_type": "markdown",
   "id": "6910c5da-4d67-411c-a1c1-885cc71a8560",
   "metadata": {},
   "source": [
    "### Exercise 2 - Define the list of new articles for classification.\n"
   ]
  },
  {
   "cell_type": "code",
   "execution_count": 103,
   "id": "4a6eab70-a340-45f8-a22d-177173f73fa3",
   "metadata": {},
   "outputs": [],
   "source": [
    "new_articles = [\n",
    "    \"International talks have made significant headway with the signing of a climate accord that commits countries to reduce emissions by 40% over the next two decades. World leaders expressed optimism at the conclusion of the summit.\",\n",
    "    \"In a stunning upset, the underdog team won the national title, beating the favorites in a match that featured an incredible comeback and a last-minute goal that sealed their victory in front of a record crowd.\",\n",
    "    \"Market analysts are optimistic as the tech startup's stock prices soared after the announcement of their latest product, which promises to revolutionize how we interact with smart devices.\",\n",
    "    \"A recent study published in a leading scientific journal suggests that a new drug has shown promise in the treatment of Alzheimer's disease, outperforming current leading medications in early clinical trials.\",\n",
    "    \"Diplomatic relations have taken a positive turn with the recent peace talks that aim to end decades of conflict. The ceasefire agreement has been welcomed by the international community.\",\n",
    "    \"Economic indicators show a sharp rebound in manufacturing, with the automobile industry leading the charge. Analysts predict this surge will result in significant job creation over the next year.\",\n",
    "    \"Researchers at the university's astrophysics department have discovered a potentially habitable exoplanet. The planet, which lies in a nearby star system, has conditions that could support liquid water and, possibly, life.\",\n",
    "    \"The sports world is in shock as a legendary player announces their retirement. Over an illustrious 20-year career, the athlete has amassed numerous records and is regarded as one of the greatest to ever play the game.\",\n",
    "    \"A multinational corporation has announced a major investment in renewable energy. The initiative includes the construction of new wind farms and solar panels that will power hundreds of thousands of homes.\",\n",
    "    \"Climate scientists warn that the melting of the polar ice caps has been accelerating at an alarming rate, raising sea levels and threatening coastal cities worldwide with increased flooding risks.\"\n",
    "]"
   ]
  },
  {
   "cell_type": "markdown",
   "id": "f34e9ef2-6e0b-47cf-ba25-3697744e3c9d",
   "metadata": {},
   "source": [
    "### Exercise 3 - Classify each article and display the results.\n"
   ]
  },
  {
   "cell_type": "code",
   "execution_count": 107,
   "id": "895f60b3-ea6c-4373-90e7-dd3c093ca79b",
   "metadata": {},
   "outputs": [
    {
     "name": "stdout",
     "output_type": "stream",
     "text": [
      "Article 1 is classified as: Sci/Tec\n",
      "\n",
      "Article 2 is classified as: Sports\n",
      "\n",
      "Article 3 is classified as: Business\n",
      "\n",
      "Article 4 is classified as: Sci/Tec\n",
      "\n",
      "Article 5 is classified as: Sci/Tec\n",
      "\n",
      "Article 6 is classified as: Business\n",
      "\n",
      "Article 7 is classified as: Sci/Tec\n",
      "\n",
      "Article 8 is classified as: Sports\n",
      "\n",
      "Article 9 is classified as: Sci/Tec\n",
      "\n",
      "Article 10 is classified as: Sci/Tec\n",
      "\n"
     ]
    }
   ],
   "source": [
    "for i, article in enumerate(new_articles, start=1):\n",
    "    prediction = predict(article, text_pipeline)\n",
    "    \n",
    "    print(f\"Article {i} is classified as: {prediction}\\n\")\n",
    "    "
   ]
  },
  {
   "cell_type": "markdown",
   "id": "213cc05a-507d-4ed6-beb2-914b2c5194aa",
   "metadata": {},
   "source": [
    "---\n"
   ]
  },
  {
   "cell_type": "markdown",
   "id": "6a0698d1-edbd-406c-b646-28d7373523bd",
   "metadata": {},
   "source": [
    "## Congratulations! You have completed the lab\n"
   ]
  },
  {
   "cell_type": "markdown",
   "id": "0fff48ce-5b3f-41cc-a383-fad7b85e3da8",
   "metadata": {},
   "source": [
    "## Authors\n"
   ]
  },
  {
   "cell_type": "markdown",
   "id": "bafdbaa5-74a8-4836-abee-275cdc35e142",
   "metadata": {},
   "source": [
    "[Joseph Santarcangelo](https://author.skills.network/instructors/joseph_santarcangelo)\n",
    "\n",
    "Joseph has a Ph.D. in Electrical Engineering, his research focused on using machine learning, signal processing, and computer vision to determine how videos impact human cognition. Joseph has been working for IBM since he completed his PhD.\n"
   ]
  },
  {
   "cell_type": "markdown",
   "id": "934a8e97-4808-4334-bf2b-f2bc2a0a39c9",
   "metadata": {},
   "source": [
    "[Roodra Kanwar](https://www.linkedin.com/in/roodrakanwar/) is completing his MS in CS specializing in big data from Simon Fraser University. He has previous experience working with machine learning and as a data engineer.\n"
   ]
  },
  {
   "cell_type": "markdown",
   "id": "e81fa5dd-137d-4f6d-a433-ddddb08d5a5b",
   "metadata": {},
   "source": [
    "## References \n",
    "\n",
    "\n",
    "[TEXT CLASSIFICATION WITH THE TORCHTEXT LIBRARY](https://pytorch.org/tutorials/beginner/text_sentiment_ngrams_tutorial.html)\n"
   ]
  },
  {
   "cell_type": "markdown",
   "id": "3706f7ca-99ec-4a7a-8723-f8e426062d9d",
   "metadata": {},
   "source": [
    "```{## Change log}\n",
    "```\n"
   ]
  },
  {
   "cell_type": "markdown",
   "id": "b2e88b45-ba35-4596-bb2e-524b0723e4fb",
   "metadata": {},
   "source": [
    "```{|Date (YYYY-MM-DD)|Version|Changed By|Change Description||-|-|-|-||2023-07-27|0.1|Joseph|Created Lab||2023-07-31|0.1|Roodra|Updated Lab|}\n",
    "```\n"
   ]
  },
  {
   "cell_type": "markdown",
   "id": "2fce1a5e-bd15-4a9e-a5c0-57d2b93e08dd",
   "metadata": {},
   "source": [
    "© Copyright IBM Corporation. All rights reserved.\n"
   ]
  }
 ],
 "metadata": {
  "kernelspec": {
   "display_name": "pytorch_env",
   "language": "python",
   "name": "python3"
  },
  "language_info": {
   "codemirror_mode": {
    "name": "ipython",
    "version": 3
   },
   "file_extension": ".py",
   "mimetype": "text/x-python",
   "name": "python",
   "nbconvert_exporter": "python",
   "pygments_lexer": "ipython3",
   "version": "3.10.16"
  },
  "prev_pub_hash": "97f2f1bebe9051636654054312b885ebfb12cff2349982bf1060849810ae048b"
 },
 "nbformat": 4,
 "nbformat_minor": 4
}
